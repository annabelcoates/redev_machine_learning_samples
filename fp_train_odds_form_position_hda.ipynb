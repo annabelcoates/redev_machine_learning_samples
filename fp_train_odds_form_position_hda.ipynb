{
  "nbformat": 4,
  "nbformat_minor": 0,
  "metadata": {
    "colab": {
      "name": "fp_train_odds_form_position_hda",
      "version": "0.3.2",
      "provenance": [],
      "collapsed_sections": [],
      "include_colab_link": true
    },
    "kernelspec": {
      "name": "python3",
      "display_name": "Python 3"
    },
    "accelerator": "GPU"
  },
  "cells": [
    {
      "cell_type": "markdown",
      "metadata": {
        "id": "view-in-github",
        "colab_type": "text"
      },
      "source": [
        "<a href=\"https://colab.research.google.com/github/annabelcoates/redev_machine_learning_samples/blob/master/fp_train_odds_form_position_hda.ipynb\" target=\"_parent\"><img src=\"https://colab.research.google.com/assets/colab-badge.svg\" alt=\"Open In Colab\"/></a>"
      ]
    },
    {
      "cell_type": "markdown",
      "metadata": {
        "id": "T4Ag6MOpxqBb",
        "colab_type": "text"
      },
      "source": [
        "# Import libraries\n"
      ]
    },
    {
      "cell_type": "code",
      "metadata": {
        "colab_type": "code",
        "id": "tdkZnyog8T4q",
        "colab": {}
      },
      "source": [
        "import sys\n",
        "import os\n",
        "import urllib.request\n",
        "import datetime;\n",
        "import pandas as pd\n",
        "import numpy as np\n",
        "import math\n",
        "\n",
        "from keras import optimizers\n",
        "from keras.models import Sequential\n",
        "from keras.optimizers import SGD\n",
        "from keras.layers import Dense, Dropout, Activation, Flatten, Lambda\n",
        "from keras.utils import np_utils, to_categorical\n",
        "from keras.utils import plot_model\n"
      ],
      "execution_count": 0,
      "outputs": []
    },
    {
      "cell_type": "markdown",
      "metadata": {
        "id": "LCqSIQft5qaB",
        "colab_type": "text"
      },
      "source": [
        "# Load and Display Preprocessed Data "
      ]
    },
    {
      "cell_type": "markdown",
      "metadata": {
        "id": "aBbX26aXIZgQ",
        "colab_type": "text"
      },
      "source": [
        "For data without categorical names use preprocessed_data.csv as the filename or preprocessed_data_Cat.csv for the (220 columns of) categoric names"
      ]
    },
    {
      "cell_type": "code",
      "metadata": {
        "id": "rGl-k1255zYZ",
        "colab_type": "code",
        "colab": {}
      },
      "source": [
        "\n",
        "url='https://raw.githubusercontent.com/RedevLtd/redev_machine_learning_samples/master/FootballPredicator/preprocessed_data/efl_data_2000_2019position.csv'\n",
        "df=pd.read_csv(url)\n",
        "df_array=np.asarray(df)\n"
      ],
      "execution_count": 0,
      "outputs": []
    },
    {
      "cell_type": "code",
      "metadata": {
        "id": "XqAXokw0JTCi",
        "colab_type": "code",
        "outputId": "68554a18-d4ab-496d-808a-96023246c9d0",
        "colab": {
          "base_uri": "https://localhost:8080/",
          "height": 887
        }
      },
      "source": [
        "count=0\n",
        "for column in df.columns:\n",
        "  print(str(count) +') '+ str(column))\n",
        "  count+=1\n",
        "  "
      ],
      "execution_count": 36,
      "outputs": [
        {
          "output_type": "stream",
          "text": [
            "0) FDIndex\n",
            "1) Div\n",
            "2) MatchNo\n",
            "3) SeasonYear\n",
            "4) SeasonMatchNo\n",
            "5) MatchDate\n",
            "6) HomeTeam\n",
            "7) AwayTeam\n",
            "8) OddsHomeWin\n",
            "9) OddsDraw\n",
            "10) OddsAwayWin\n",
            "11) OddsWinDiff\n",
            "12) CPHomeTeam\n",
            "13) CPAwayTeam\n",
            "14) L_FTHomeGoals\n",
            "15) L_FTAwayGoals\n",
            "16) L_FTResult\n",
            "17) L_FTHomeWin\n",
            "18) L_FTDraw\n",
            "19) L_FTAwayWin\n",
            "20) L_HTHomeGoals\n",
            "21) L_HTAwayGoals\n",
            "22) L_HTResult\n",
            "23) L_HTHomeWin\n",
            "24) L_HTDraw\n",
            "25) L_HTAwayWin\n",
            "26) L_HomePoints\n",
            "27) L_AwayPoints\n",
            "28) L_BTTS\n",
            "29) L_FTHomeWin_BTTS\n",
            "30) L_FTDraw_BTTS\n",
            "31) L_FTAwayWin_BTTS\n",
            "32) L_FTHomeWin_LHT\n",
            "33) L_FTAwayWin_LHT\n",
            "34) L_FTHomeWin_O25\n",
            "35) L_FTDraw_O25\n",
            "36) L_FTAwayWin_O25\n",
            "37) HomeTeamPosition\n",
            "38) AwayTeamPosition\n",
            "39) HomeTeamF1\n",
            "40) HomeTeamF2\n",
            "41) HomeTeamF3\n",
            "42) HomeTeamF4\n",
            "43) AwayTeamF1\n",
            "44) AwayTeamF2\n",
            "45) AwayTeamF3\n",
            "46) AwayTeamF4\n"
          ],
          "name": "stdout"
        }
      ]
    },
    {
      "cell_type": "code",
      "metadata": {
        "id": "0RsK8i3d96oD",
        "colab_type": "code",
        "outputId": "8f6c2009-57a3-49c4-8a30-61e08659477e",
        "colab": {
          "base_uri": "https://localhost:8080/",
          "height": 181
        }
      },
      "source": [
        "df.tail(3)"
      ],
      "execution_count": 37,
      "outputs": [
        {
          "output_type": "execute_result",
          "data": {
            "text/html": [
              "<div>\n",
              "<style scoped>\n",
              "    .dataframe tbody tr th:only-of-type {\n",
              "        vertical-align: middle;\n",
              "    }\n",
              "\n",
              "    .dataframe tbody tr th {\n",
              "        vertical-align: top;\n",
              "    }\n",
              "\n",
              "    .dataframe thead th {\n",
              "        text-align: right;\n",
              "    }\n",
              "</style>\n",
              "<table border=\"1\" class=\"dataframe\">\n",
              "  <thead>\n",
              "    <tr style=\"text-align: right;\">\n",
              "      <th></th>\n",
              "      <th>FDIndex</th>\n",
              "      <th>Div</th>\n",
              "      <th>MatchNo</th>\n",
              "      <th>SeasonYear</th>\n",
              "      <th>SeasonMatchNo</th>\n",
              "      <th>MatchDate</th>\n",
              "      <th>HomeTeam</th>\n",
              "      <th>AwayTeam</th>\n",
              "      <th>OddsHomeWin</th>\n",
              "      <th>OddsDraw</th>\n",
              "      <th>OddsAwayWin</th>\n",
              "      <th>OddsWinDiff</th>\n",
              "      <th>CPHomeTeam</th>\n",
              "      <th>CPAwayTeam</th>\n",
              "      <th>L_FTHomeGoals</th>\n",
              "      <th>L_FTAwayGoals</th>\n",
              "      <th>L_FTResult</th>\n",
              "      <th>L_FTHomeWin</th>\n",
              "      <th>L_FTDraw</th>\n",
              "      <th>L_FTAwayWin</th>\n",
              "      <th>L_HTHomeGoals</th>\n",
              "      <th>L_HTAwayGoals</th>\n",
              "      <th>L_HTResult</th>\n",
              "      <th>L_HTHomeWin</th>\n",
              "      <th>L_HTDraw</th>\n",
              "      <th>L_HTAwayWin</th>\n",
              "      <th>L_HomePoints</th>\n",
              "      <th>L_AwayPoints</th>\n",
              "      <th>L_BTTS</th>\n",
              "      <th>L_FTHomeWin_BTTS</th>\n",
              "      <th>L_FTDraw_BTTS</th>\n",
              "      <th>L_FTAwayWin_BTTS</th>\n",
              "      <th>L_FTHomeWin_LHT</th>\n",
              "      <th>L_FTAwayWin_LHT</th>\n",
              "      <th>L_FTHomeWin_O25</th>\n",
              "      <th>L_FTDraw_O25</th>\n",
              "      <th>L_FTAwayWin_O25</th>\n",
              "      <th>HomeTeamPosition</th>\n",
              "      <th>AwayTeamPosition</th>\n",
              "      <th>HomeTeamF1</th>\n",
              "      <th>HomeTeamF2</th>\n",
              "      <th>HomeTeamF3</th>\n",
              "      <th>HomeTeamF4</th>\n",
              "      <th>AwayTeamF1</th>\n",
              "      <th>AwayTeamF2</th>\n",
              "      <th>AwayTeamF3</th>\n",
              "      <th>AwayTeamF4</th>\n",
              "    </tr>\n",
              "  </thead>\n",
              "  <tbody>\n",
              "    <tr>\n",
              "      <th>38129</th>\n",
              "      <td>E320228130</td>\n",
              "      <td>E3</td>\n",
              "      <td>20228130</td>\n",
              "      <td>2019</td>\n",
              "      <td>38130</td>\n",
              "      <td>2019-08-17</td>\n",
              "      <td>Northampton</td>\n",
              "      <td>Macclesfield</td>\n",
              "      <td>1.85</td>\n",
              "      <td>3.5</td>\n",
              "      <td>4.2</td>\n",
              "      <td>2.35</td>\n",
              "      <td>1</td>\n",
              "      <td>3</td>\n",
              "      <td>1.0</td>\n",
              "      <td>2.0</td>\n",
              "      <td>A</td>\n",
              "      <td>0</td>\n",
              "      <td>0</td>\n",
              "      <td>1</td>\n",
              "      <td>0.0</td>\n",
              "      <td>1.0</td>\n",
              "      <td>A</td>\n",
              "      <td>0</td>\n",
              "      <td>0</td>\n",
              "      <td>1</td>\n",
              "      <td>0</td>\n",
              "      <td>3</td>\n",
              "      <td>1</td>\n",
              "      <td>0</td>\n",
              "      <td>0</td>\n",
              "      <td>1</td>\n",
              "      <td>0</td>\n",
              "      <td>0</td>\n",
              "      <td>0</td>\n",
              "      <td>0</td>\n",
              "      <td>1</td>\n",
              "      <td>16.0</td>\n",
              "      <td>12.0</td>\n",
              "      <td>1</td>\n",
              "      <td>0</td>\n",
              "      <td>3</td>\n",
              "      <td>1</td>\n",
              "      <td>3</td>\n",
              "      <td>0</td>\n",
              "      <td>1</td>\n",
              "      <td>3</td>\n",
              "    </tr>\n",
              "    <tr>\n",
              "      <th>38130</th>\n",
              "      <td>E320228131</td>\n",
              "      <td>E3</td>\n",
              "      <td>20228131</td>\n",
              "      <td>2019</td>\n",
              "      <td>38131</td>\n",
              "      <td>2019-08-17</td>\n",
              "      <td>Salford</td>\n",
              "      <td>Port Vale</td>\n",
              "      <td>2.10</td>\n",
              "      <td>3.3</td>\n",
              "      <td>3.6</td>\n",
              "      <td>1.50</td>\n",
              "      <td>3</td>\n",
              "      <td>2</td>\n",
              "      <td>1.0</td>\n",
              "      <td>1.0</td>\n",
              "      <td>D</td>\n",
              "      <td>0</td>\n",
              "      <td>1</td>\n",
              "      <td>0</td>\n",
              "      <td>0.0</td>\n",
              "      <td>0.0</td>\n",
              "      <td>D</td>\n",
              "      <td>0</td>\n",
              "      <td>1</td>\n",
              "      <td>0</td>\n",
              "      <td>1</td>\n",
              "      <td>1</td>\n",
              "      <td>1</td>\n",
              "      <td>0</td>\n",
              "      <td>1</td>\n",
              "      <td>0</td>\n",
              "      <td>0</td>\n",
              "      <td>0</td>\n",
              "      <td>0</td>\n",
              "      <td>0</td>\n",
              "      <td>0</td>\n",
              "      <td>20.0</td>\n",
              "      <td>19.0</td>\n",
              "      <td>0</td>\n",
              "      <td>3</td>\n",
              "      <td>1</td>\n",
              "      <td>1</td>\n",
              "      <td>1</td>\n",
              "      <td>1</td>\n",
              "      <td>1</td>\n",
              "      <td>0</td>\n",
              "    </tr>\n",
              "    <tr>\n",
              "      <th>38131</th>\n",
              "      <td>E320228132</td>\n",
              "      <td>E3</td>\n",
              "      <td>20228132</td>\n",
              "      <td>2019</td>\n",
              "      <td>38132</td>\n",
              "      <td>2019-08-17</td>\n",
              "      <td>Scunthorpe</td>\n",
              "      <td>Crawley Town</td>\n",
              "      <td>1.95</td>\n",
              "      <td>3.4</td>\n",
              "      <td>3.9</td>\n",
              "      <td>1.95</td>\n",
              "      <td>0</td>\n",
              "      <td>3</td>\n",
              "      <td>2.0</td>\n",
              "      <td>2.0</td>\n",
              "      <td>D</td>\n",
              "      <td>0</td>\n",
              "      <td>1</td>\n",
              "      <td>0</td>\n",
              "      <td>1.0</td>\n",
              "      <td>1.0</td>\n",
              "      <td>D</td>\n",
              "      <td>0</td>\n",
              "      <td>1</td>\n",
              "      <td>0</td>\n",
              "      <td>1</td>\n",
              "      <td>1</td>\n",
              "      <td>1</td>\n",
              "      <td>0</td>\n",
              "      <td>1</td>\n",
              "      <td>0</td>\n",
              "      <td>0</td>\n",
              "      <td>0</td>\n",
              "      <td>0</td>\n",
              "      <td>1</td>\n",
              "      <td>0</td>\n",
              "      <td>21.0</td>\n",
              "      <td>6.0</td>\n",
              "      <td>0</td>\n",
              "      <td>0</td>\n",
              "      <td>0</td>\n",
              "      <td>0</td>\n",
              "      <td>3</td>\n",
              "      <td>0</td>\n",
              "      <td>3</td>\n",
              "      <td>0</td>\n",
              "    </tr>\n",
              "  </tbody>\n",
              "</table>\n",
              "</div>"
            ],
            "text/plain": [
              "          FDIndex Div   MatchNo  ...  AwayTeamF2  AwayTeamF3 AwayTeamF4\n",
              "38129  E320228130  E3  20228130  ...           0           1          3\n",
              "38130  E320228131  E3  20228131  ...           1           1          0\n",
              "38131  E320228132  E3  20228132  ...           0           3          0\n",
              "\n",
              "[3 rows x 47 columns]"
            ]
          },
          "metadata": {
            "tags": []
          },
          "execution_count": 37
        }
      ]
    },
    {
      "cell_type": "markdown",
      "metadata": {
        "id": "toiWQlWgSN4A",
        "colab_type": "text"
      },
      "source": [
        "# Rebalance and Shuffle the Data "
      ]
    },
    {
      "cell_type": "markdown",
      "metadata": {
        "id": "mDkUsvl9SROk",
        "colab_type": "text"
      },
      "source": [
        "Rebalancing the data means making the number of instances of each result equal,which can make the model more accurate. "
      ]
    },
    {
      "cell_type": "code",
      "metadata": {
        "id": "YIs4AFalS_NV",
        "colab_type": "code",
        "colab": {}
      },
      "source": [
        "# Seperate the data into draw, home win and away win results and crop each \n",
        "# dataframe down to the number of draws so that the data is balanced\n",
        "#draws_df=df[df.L_FTResult==\"D\"]\n",
        "#home_df=df[df.L_FTResult==\"H\"]\n",
        "#home_df=home_df.iloc[range(draws_df.shape[0])]\n",
        "#away_df=df[df.L_FTResult==\"A\"]\n",
        "#away_df=away_df.iloc[range(away_df.shape[0])]\n",
        "#concat_objs=[draws_df,home_df,away_df]\n",
        "# Put the dataframes back together\n",
        "#df=pd.concat(concat_objs,axis=0)"
      ],
      "execution_count": 0,
      "outputs": []
    },
    {
      "cell_type": "markdown",
      "metadata": {
        "id": "xMTf3tHB3thr",
        "colab_type": "text"
      },
      "source": [
        "Shuffling the data avoids overfitting. The `df.sample(frac)` function returns a fraction of the dataframe as a random sample"
      ]
    },
    {
      "cell_type": "code",
      "metadata": {
        "id": "XWj9eRH43jIl",
        "colab_type": "code",
        "colab": {}
      },
      "source": [
        "# Shuffle the data\n",
        "df=df.sample(frac=1)"
      ],
      "execution_count": 0,
      "outputs": []
    },
    {
      "cell_type": "markdown",
      "metadata": {
        "id": "wPnV3l8VGI4Y",
        "colab_type": "text"
      },
      "source": [
        "# Get Input Data and Results"
      ]
    },
    {
      "cell_type": "code",
      "metadata": {
        "id": "G7g0o-Ew94HF",
        "colab_type": "code",
        "colab": {}
      },
      "source": [
        "# For robustness call the odds and results by their dataframe column names instead of their indexes (in case the dataframe changes)\n",
        "input_objs=[df.OddsHomeWin,df.OddsDraw,df.OddsAwayWin,df.HomeTeamPosition,df.AwayTeamPosition,\n",
        "            df.HomeTeamF1,df.HomeTeamF2,df.HomeTeamF3,df.HomeTeamF4,df.AwayTeamF1,df.AwayTeamF2,df.AwayTeamF3,df.AwayTeamF4] \n",
        "input_array=np.asarray(pd.concat(input_objs,axis=1))\n",
        "# Get the results\n",
        "results_objs=[df.L_FTHomeWin,df.L_FTDraw,df.L_FTAwayWin]\n",
        "results=np.asarray(pd.concat(results_objs,axis=1))"
      ],
      "execution_count": 0,
      "outputs": []
    },
    {
      "cell_type": "markdown",
      "metadata": {
        "id": "-Z_KK9iy62Nx",
        "colab_type": "text"
      },
      "source": [
        "Print one data point of input and results to check it is in the expected form."
      ]
    },
    {
      "cell_type": "code",
      "metadata": {
        "id": "kV2jwCqs68Z9",
        "colab_type": "code",
        "colab": {
          "base_uri": "https://localhost:8080/",
          "height": 73
        },
        "outputId": "415f3c25-1281-4277-8f82-1751046a6633"
      },
      "source": [
        "print(input_array[0])\n",
        "print(results[0])"
      ],
      "execution_count": 41,
      "outputs": [
        {
          "output_type": "stream",
          "text": [
            "[ 1.91  3.3   4.2  17.   13.    3.    3.    3.    3.    3.    0.    3.\n",
            "  3.  ]\n",
            "[1 0 0]\n"
          ],
          "name": "stdout"
        }
      ]
    },
    {
      "cell_type": "code",
      "metadata": {
        "id": "ttaZ3eIZLFL7",
        "colab_type": "code",
        "colab": {}
      },
      "source": [
        "# Get the number of inputs and the number of datapoints\n",
        "number_dp=input_array.shape[0]\n",
        "n_inputs= input_array.shape[1] "
      ],
      "execution_count": 0,
      "outputs": []
    },
    {
      "cell_type": "code",
      "metadata": {
        "id": "_XwiotBrLFyL",
        "colab_type": "code",
        "colab": {}
      },
      "source": [
        "input_array=input_array.reshape(number_dp,1,1,n_inputs)\n",
        "results=results.reshape(number_dp,1,1,3)"
      ],
      "execution_count": 0,
      "outputs": []
    },
    {
      "cell_type": "markdown",
      "metadata": {
        "id": "ByhJxe4qL7EO",
        "colab_type": "text"
      },
      "source": [
        "# Seperate into training and testing data"
      ]
    },
    {
      "cell_type": "markdown",
      "metadata": {
        "id": "KVnuw-rhPuer",
        "colab_type": "text"
      },
      "source": [
        "Usually approx 80% of the data is used as training data and 20% of the data is used as test data"
      ]
    },
    {
      "cell_type": "code",
      "metadata": {
        "id": "-5rFPx4hL5OX",
        "colab_type": "code",
        "colab": {}
      },
      "source": [
        "p=0.6\n",
        "last_train= math.ceil(p*number_dp)\n",
        "# Training data\n",
        "input_train=input_array[0:last_train,:]\n",
        "results_train=results[0:last_train,:]\n",
        "# Test data\n",
        "input_test=input_array[(last_train+1):number_dp,:]\n",
        "results_test=results[(last_train+1):number_dp,:]"
      ],
      "execution_count": 0,
      "outputs": []
    },
    {
      "cell_type": "code",
      "metadata": {
        "id": "N1JQdlA4dw_V",
        "colab_type": "code",
        "outputId": "8fcdfd02-862d-4ceb-ed59-ae922f73d263",
        "colab": {
          "base_uri": "https://localhost:8080/",
          "height": 54
        }
      },
      "source": [
        "print(input_train.shape)\n",
        "print(input_test.shape)"
      ],
      "execution_count": 45,
      "outputs": [
        {
          "output_type": "stream",
          "text": [
            "(22880, 1, 1, 13)\n",
            "(15251, 1, 1, 13)\n"
          ],
          "name": "stdout"
        }
      ]
    },
    {
      "cell_type": "markdown",
      "metadata": {
        "id": "yQ0TAiUC3e_K",
        "colab_type": "text"
      },
      "source": [
        "Print input shape"
      ]
    },
    {
      "cell_type": "markdown",
      "metadata": {
        "id": "C_TU-XvtMcee",
        "colab_type": "text"
      },
      "source": [
        "# Define Model Architecture"
      ]
    },
    {
      "cell_type": "code",
      "metadata": {
        "id": "SEzeYidCMhU_",
        "colab_type": "code",
        "colab": {}
      },
      "source": [
        "model=Sequential()\n",
        "model.add(Dense(9,input_shape=(1,1,n_inputs), activation='relu')) # Adds a densely connected NN layer\n",
        "model.add(Dense(3,activation='relu')) \n",
        "model.add(Dense(3,activation='softmax'))"
      ],
      "execution_count": 0,
      "outputs": []
    },
    {
      "cell_type": "markdown",
      "metadata": {
        "id": "le9HQ0CUN3Mt",
        "colab_type": "text"
      },
      "source": [
        "# Compile Model"
      ]
    },
    {
      "cell_type": "markdown",
      "metadata": {
        "id": "bktT906gOno0",
        "colab_type": "text"
      },
      "source": [
        "Categorial crossentropy loss is a loss algorithm for when there are multiple categories to sort each data point into, in this case  home win, draw or away win. "
      ]
    },
    {
      "cell_type": "code",
      "metadata": {
        "id": "MZXC2fauN-1O",
        "colab_type": "code",
        "colab": {}
      },
      "source": [
        "#opt = SGD(lr=0.000001,momentum=0.004)\n",
        "model.compile(loss='categorical_crossentropy',optimizer='adagrad',metrics=['accuracy'],sample_weight_mode=\"temporal\") \n",
        "# Want to know the accuracy of the model so specify it as a metric\n",
        "plot_model(model,to_file='model.png')"
      ],
      "execution_count": 0,
      "outputs": []
    },
    {
      "cell_type": "markdown",
      "metadata": {
        "id": "K1wE64qJPmZy",
        "colab_type": "text"
      },
      "source": [
        "# Fit Model from Training Data\n"
      ]
    },
    {
      "cell_type": "markdown",
      "metadata": {
        "id": "csQHyf4yRb9b",
        "colab_type": "text"
      },
      "source": [
        "* The number of epochs are the number of phases of training\n",
        "* The shuffle parameter determines whether the order of the batches is shuffled between epochs\n",
        "* Batch size is the number of data points between updates to the weights\n",
        "* **Greater number of epochs** can increase accuracy\n",
        "\n",
        "Note: Rerunning this section will add to the current model, to fit a model from new recompile it by running the previous cell first\n",
        "\n"
      ]
    },
    {
      "cell_type": "code",
      "metadata": {
        "id": "9HayREmuaTTB",
        "colab_type": "code",
        "outputId": "9a39de3d-04aa-4ae2-99fa-3b0f8528dcb8",
        "colab": {
          "base_uri": "https://localhost:8080/",
          "height": 1000
        }
      },
      "source": [
        "model.fit(x=input_train, y=results_train, batch_size=1000,\n",
        "          epochs=100, verbose=1, shuffle=1)"
      ],
      "execution_count": 48,
      "outputs": [
        {
          "output_type": "stream",
          "text": [
            "Epoch 1/100\n",
            "22880/22880 [==============================] - 0s 20us/step - loss: 1.5787 - acc: 0.2986\n",
            "Epoch 2/100\n",
            "22880/22880 [==============================] - 0s 6us/step - loss: 1.1314 - acc: 0.3756\n",
            "Epoch 3/100\n",
            "22880/22880 [==============================] - 0s 7us/step - loss: 1.0895 - acc: 0.4092\n",
            "Epoch 4/100\n",
            "22880/22880 [==============================] - 0s 6us/step - loss: 1.0756 - acc: 0.4246\n",
            "Epoch 5/100\n",
            "22880/22880 [==============================] - 0s 6us/step - loss: 1.0677 - acc: 0.4338\n",
            "Epoch 6/100\n",
            "22880/22880 [==============================] - 0s 6us/step - loss: 1.0621 - acc: 0.4409\n",
            "Epoch 7/100\n",
            "22880/22880 [==============================] - 0s 7us/step - loss: 1.0583 - acc: 0.4441\n",
            "Epoch 8/100\n",
            "22880/22880 [==============================] - 0s 6us/step - loss: 1.0554 - acc: 0.4477\n",
            "Epoch 9/100\n",
            "22880/22880 [==============================] - 0s 6us/step - loss: 1.0532 - acc: 0.4502\n",
            "Epoch 10/100\n",
            "22880/22880 [==============================] - 0s 7us/step - loss: 1.0514 - acc: 0.4526\n",
            "Epoch 11/100\n",
            "22880/22880 [==============================] - 0s 6us/step - loss: 1.0500 - acc: 0.4545\n",
            "Epoch 12/100\n",
            "22880/22880 [==============================] - 0s 6us/step - loss: 1.0487 - acc: 0.4562\n",
            "Epoch 13/100\n",
            "22880/22880 [==============================] - 0s 6us/step - loss: 1.0476 - acc: 0.4571\n",
            "Epoch 14/100\n",
            "22880/22880 [==============================] - 0s 6us/step - loss: 1.0466 - acc: 0.4584\n",
            "Epoch 15/100\n",
            "22880/22880 [==============================] - 0s 7us/step - loss: 1.0457 - acc: 0.4586\n",
            "Epoch 16/100\n",
            "22880/22880 [==============================] - 0s 6us/step - loss: 1.0451 - acc: 0.4612\n",
            "Epoch 17/100\n",
            "22880/22880 [==============================] - 0s 6us/step - loss: 1.0444 - acc: 0.4621\n",
            "Epoch 18/100\n",
            "22880/22880 [==============================] - 0s 6us/step - loss: 1.0438 - acc: 0.4615\n",
            "Epoch 19/100\n",
            "22880/22880 [==============================] - 0s 6us/step - loss: 1.0432 - acc: 0.4632\n",
            "Epoch 20/100\n",
            "22880/22880 [==============================] - 0s 7us/step - loss: 1.0428 - acc: 0.4643\n",
            "Epoch 21/100\n",
            "22880/22880 [==============================] - 0s 6us/step - loss: 1.0424 - acc: 0.4656\n",
            "Epoch 22/100\n",
            "22880/22880 [==============================] - 0s 6us/step - loss: 1.0420 - acc: 0.4659\n",
            "Epoch 23/100\n",
            "22880/22880 [==============================] - 0s 6us/step - loss: 1.0415 - acc: 0.4677\n",
            "Epoch 24/100\n",
            "22880/22880 [==============================] - 0s 6us/step - loss: 1.0413 - acc: 0.4668\n",
            "Epoch 25/100\n",
            "22880/22880 [==============================] - 0s 6us/step - loss: 1.0409 - acc: 0.4670\n",
            "Epoch 26/100\n",
            "22880/22880 [==============================] - 0s 7us/step - loss: 1.0407 - acc: 0.4680\n",
            "Epoch 27/100\n",
            "22880/22880 [==============================] - 0s 6us/step - loss: 1.0405 - acc: 0.4683\n",
            "Epoch 28/100\n",
            "22880/22880 [==============================] - 0s 7us/step - loss: 1.0402 - acc: 0.4693\n",
            "Epoch 29/100\n",
            "22880/22880 [==============================] - 0s 6us/step - loss: 1.0399 - acc: 0.4698\n",
            "Epoch 30/100\n",
            "22880/22880 [==============================] - 0s 6us/step - loss: 1.0397 - acc: 0.4695\n",
            "Epoch 31/100\n",
            "22880/22880 [==============================] - 0s 7us/step - loss: 1.0396 - acc: 0.4695\n",
            "Epoch 32/100\n",
            "22880/22880 [==============================] - 0s 6us/step - loss: 1.0393 - acc: 0.4697\n",
            "Epoch 33/100\n",
            "22880/22880 [==============================] - 0s 6us/step - loss: 1.0392 - acc: 0.4710\n",
            "Epoch 34/100\n",
            "22880/22880 [==============================] - 0s 6us/step - loss: 1.0391 - acc: 0.4696\n",
            "Epoch 35/100\n",
            "22880/22880 [==============================] - 0s 6us/step - loss: 1.0388 - acc: 0.4714\n",
            "Epoch 36/100\n",
            "22880/22880 [==============================] - 0s 6us/step - loss: 1.0387 - acc: 0.4709\n",
            "Epoch 37/100\n",
            "22880/22880 [==============================] - 0s 7us/step - loss: 1.0386 - acc: 0.4705\n",
            "Epoch 38/100\n",
            "22880/22880 [==============================] - 0s 6us/step - loss: 1.0384 - acc: 0.4715\n",
            "Epoch 39/100\n",
            "22880/22880 [==============================] - 0s 6us/step - loss: 1.0384 - acc: 0.4708\n",
            "Epoch 40/100\n",
            "22880/22880 [==============================] - 0s 6us/step - loss: 1.0382 - acc: 0.4716\n",
            "Epoch 41/100\n",
            "22880/22880 [==============================] - 0s 6us/step - loss: 1.0382 - acc: 0.4717\n",
            "Epoch 42/100\n",
            "22880/22880 [==============================] - 0s 6us/step - loss: 1.0381 - acc: 0.4720\n",
            "Epoch 43/100\n",
            "22880/22880 [==============================] - 0s 6us/step - loss: 1.0379 - acc: 0.4720\n",
            "Epoch 44/100\n",
            "22880/22880 [==============================] - 0s 6us/step - loss: 1.0378 - acc: 0.4720\n",
            "Epoch 45/100\n",
            "22880/22880 [==============================] - 0s 7us/step - loss: 1.0377 - acc: 0.4732\n",
            "Epoch 46/100\n",
            "22880/22880 [==============================] - 0s 7us/step - loss: 1.0377 - acc: 0.4727\n",
            "Epoch 47/100\n",
            "22880/22880 [==============================] - 0s 7us/step - loss: 1.0376 - acc: 0.4722\n",
            "Epoch 48/100\n",
            "22880/22880 [==============================] - 0s 9us/step - loss: 1.0376 - acc: 0.4729\n",
            "Epoch 49/100\n",
            "22880/22880 [==============================] - 0s 11us/step - loss: 1.0374 - acc: 0.4740\n",
            "Epoch 50/100\n",
            "22880/22880 [==============================] - 0s 11us/step - loss: 1.0374 - acc: 0.4738\n",
            "Epoch 51/100\n",
            "22880/22880 [==============================] - 0s 12us/step - loss: 1.0373 - acc: 0.4732\n",
            "Epoch 52/100\n",
            "22880/22880 [==============================] - 0s 10us/step - loss: 1.0371 - acc: 0.4737\n",
            "Epoch 53/100\n",
            "22880/22880 [==============================] - 0s 12us/step - loss: 1.0372 - acc: 0.4729\n",
            "Epoch 54/100\n",
            "22880/22880 [==============================] - 0s 10us/step - loss: 1.0370 - acc: 0.4739\n",
            "Epoch 55/100\n",
            "22880/22880 [==============================] - 0s 11us/step - loss: 1.0370 - acc: 0.4733\n",
            "Epoch 56/100\n",
            "22880/22880 [==============================] - 0s 8us/step - loss: 1.0370 - acc: 0.4738\n",
            "Epoch 57/100\n",
            "22880/22880 [==============================] - 0s 8us/step - loss: 1.0369 - acc: 0.4739\n",
            "Epoch 58/100\n",
            "22880/22880 [==============================] - 0s 7us/step - loss: 1.0368 - acc: 0.4746\n",
            "Epoch 59/100\n",
            "22880/22880 [==============================] - 0s 12us/step - loss: 1.0369 - acc: 0.4757\n",
            "Epoch 60/100\n",
            "22880/22880 [==============================] - 0s 13us/step - loss: 1.0367 - acc: 0.4749\n",
            "Epoch 61/100\n",
            "22880/22880 [==============================] - 0s 11us/step - loss: 1.0367 - acc: 0.4748\n",
            "Epoch 62/100\n",
            "22880/22880 [==============================] - 0s 11us/step - loss: 1.0366 - acc: 0.4747\n",
            "Epoch 63/100\n",
            "22880/22880 [==============================] - 0s 14us/step - loss: 1.0366 - acc: 0.4749\n",
            "Epoch 64/100\n",
            "22880/22880 [==============================] - 0s 10us/step - loss: 1.0365 - acc: 0.4743\n",
            "Epoch 65/100\n",
            "22880/22880 [==============================] - 0s 12us/step - loss: 1.0365 - acc: 0.4752\n",
            "Epoch 66/100\n",
            "22880/22880 [==============================] - 0s 12us/step - loss: 1.0364 - acc: 0.4758\n",
            "Epoch 67/100\n",
            "22880/22880 [==============================] - 0s 12us/step - loss: 1.0365 - acc: 0.4750\n",
            "Epoch 68/100\n",
            "22880/22880 [==============================] - 0s 12us/step - loss: 1.0363 - acc: 0.4764\n",
            "Epoch 69/100\n",
            "22880/22880 [==============================] - 0s 12us/step - loss: 1.0363 - acc: 0.4743\n",
            "Epoch 70/100\n",
            "22880/22880 [==============================] - 0s 12us/step - loss: 1.0363 - acc: 0.4753\n",
            "Epoch 71/100\n",
            "22880/22880 [==============================] - 0s 13us/step - loss: 1.0362 - acc: 0.4755\n",
            "Epoch 72/100\n",
            "22880/22880 [==============================] - 0s 11us/step - loss: 1.0362 - acc: 0.4759\n",
            "Epoch 73/100\n",
            "22880/22880 [==============================] - 0s 11us/step - loss: 1.0362 - acc: 0.4765\n",
            "Epoch 74/100\n",
            "22880/22880 [==============================] - 0s 12us/step - loss: 1.0362 - acc: 0.4753\n",
            "Epoch 75/100\n",
            "22880/22880 [==============================] - 0s 11us/step - loss: 1.0361 - acc: 0.4760\n",
            "Epoch 76/100\n",
            "22880/22880 [==============================] - 0s 11us/step - loss: 1.0361 - acc: 0.4754\n",
            "Epoch 77/100\n",
            "22880/22880 [==============================] - 0s 13us/step - loss: 1.0360 - acc: 0.4755\n",
            "Epoch 78/100\n",
            "22880/22880 [==============================] - 0s 9us/step - loss: 1.0360 - acc: 0.4754\n",
            "Epoch 79/100\n",
            "22880/22880 [==============================] - 0s 12us/step - loss: 1.0361 - acc: 0.4753\n",
            "Epoch 80/100\n",
            "22880/22880 [==============================] - 0s 12us/step - loss: 1.0360 - acc: 0.4745\n",
            "Epoch 81/100\n",
            "22880/22880 [==============================] - 0s 13us/step - loss: 1.0359 - acc: 0.4755\n",
            "Epoch 82/100\n",
            "22880/22880 [==============================] - 0s 12us/step - loss: 1.0359 - acc: 0.4749\n",
            "Epoch 83/100\n",
            "22880/22880 [==============================] - 0s 13us/step - loss: 1.0359 - acc: 0.4757\n",
            "Epoch 84/100\n",
            "22880/22880 [==============================] - 0s 12us/step - loss: 1.0359 - acc: 0.4758\n",
            "Epoch 85/100\n",
            "22880/22880 [==============================] - 0s 10us/step - loss: 1.0359 - acc: 0.4762\n",
            "Epoch 86/100\n",
            "22880/22880 [==============================] - 0s 13us/step - loss: 1.0358 - acc: 0.4767\n",
            "Epoch 87/100\n",
            "22880/22880 [==============================] - 0s 11us/step - loss: 1.0358 - acc: 0.4757\n",
            "Epoch 88/100\n",
            "22880/22880 [==============================] - 0s 12us/step - loss: 1.0358 - acc: 0.4754\n",
            "Epoch 89/100\n",
            "22880/22880 [==============================] - 0s 11us/step - loss: 1.0358 - acc: 0.4755\n",
            "Epoch 90/100\n",
            "22880/22880 [==============================] - 0s 14us/step - loss: 1.0357 - acc: 0.4758\n",
            "Epoch 91/100\n",
            "22880/22880 [==============================] - 0s 12us/step - loss: 1.0357 - acc: 0.4759\n",
            "Epoch 92/100\n",
            "22880/22880 [==============================] - 0s 11us/step - loss: 1.0357 - acc: 0.4757\n",
            "Epoch 93/100\n",
            "22880/22880 [==============================] - 0s 10us/step - loss: 1.0357 - acc: 0.4755\n",
            "Epoch 94/100\n",
            "22880/22880 [==============================] - 0s 11us/step - loss: 1.0356 - acc: 0.4764\n",
            "Epoch 95/100\n",
            "22880/22880 [==============================] - 0s 12us/step - loss: 1.0355 - acc: 0.4764\n",
            "Epoch 96/100\n",
            "22880/22880 [==============================] - 0s 11us/step - loss: 1.0356 - acc: 0.4764\n",
            "Epoch 97/100\n",
            "22880/22880 [==============================] - 0s 13us/step - loss: 1.0356 - acc: 0.4760\n",
            "Epoch 98/100\n",
            "22880/22880 [==============================] - 0s 12us/step - loss: 1.0356 - acc: 0.4760\n",
            "Epoch 99/100\n",
            "22880/22880 [==============================] - 0s 12us/step - loss: 1.0355 - acc: 0.4767\n",
            "Epoch 100/100\n",
            "22880/22880 [==============================] - 0s 13us/step - loss: 1.0355 - acc: 0.4757\n"
          ],
          "name": "stdout"
        },
        {
          "output_type": "execute_result",
          "data": {
            "text/plain": [
              "<keras.callbacks.History at 0x7fc8587d6a90>"
            ]
          },
          "metadata": {
            "tags": []
          },
          "execution_count": 48
        }
      ]
    },
    {
      "cell_type": "markdown",
      "metadata": {
        "id": "hr573gZNPn36",
        "colab_type": "text"
      },
      "source": [
        "# Evaluate Model"
      ]
    },
    {
      "cell_type": "code",
      "metadata": {
        "id": "yBkbMC9R-72_",
        "colab_type": "code",
        "outputId": "6ad207f2-d6a0-4474-9b9f-681bde53b2c4",
        "colab": {
          "base_uri": "https://localhost:8080/",
          "height": 73
        }
      },
      "source": [
        "[loss_value,accuracy]=model.evaluate(input_test,results_test,verbose=1)\n",
        "print(\"The loss value for the model is \"+ str(loss_value))\n",
        "print(\"The accuracy value for the model is \"+\"{:.3f}\".format(accuracy))"
      ],
      "execution_count": 49,
      "outputs": [
        {
          "output_type": "stream",
          "text": [
            "15251/15251 [==============================] - 2s 133us/step\n",
            "The loss value for the model is 1.036437186942508\n",
            "The accuracy value for the model is 0.474\n"
          ],
          "name": "stdout"
        }
      ]
    }
  ]
}