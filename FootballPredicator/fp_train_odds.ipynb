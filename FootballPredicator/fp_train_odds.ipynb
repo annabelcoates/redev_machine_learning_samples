{
  "nbformat": 4,
  "nbformat_minor": 0,
  "metadata": {
    "colab": {
      "name": "fp_train_odds",
      "version": "0.3.2",
      "provenance": [],
      "collapsed_sections": [],
      "include_colab_link": true
    },
    "kernelspec": {
      "name": "python3",
      "display_name": "Python 3"
    },
    "accelerator": "GPU"
  },
  "cells": [
    {
      "cell_type": "markdown",
      "metadata": {
        "id": "view-in-github",
        "colab_type": "text"
      },
      "source": [
        "<a href=\"https://colab.research.google.com/github/annabelcoates/redev_machine_learning_samples/blob/master/FootballPredicator/fp_train_odds.ipynb\" target=\"_parent\"><img src=\"https://colab.research.google.com/assets/colab-badge.svg\" alt=\"Open In Colab\"/></a>"
      ]
    },
    {
      "cell_type": "markdown",
      "metadata": {
        "id": "T4Ag6MOpxqBb",
        "colab_type": "text"
      },
      "source": [
        "# Import libraries\n"
      ]
    },
    {
      "cell_type": "code",
      "metadata": {
        "colab_type": "code",
        "id": "tdkZnyog8T4q",
        "colab": {
          "base_uri": "https://localhost:8080/",
          "height": 34
        },
        "outputId": "bcfdd2b2-2dec-44e1-b348-0be52f0c17f8"
      },
      "source": [
        "import sys\n",
        "import os\n",
        "import urllib.request\n",
        "import datetime;\n",
        "import pandas as pd\n",
        "import numpy as np\n",
        "import math\n",
        "\n",
        "from keras import optimizers\n",
        "from keras.models import Sequential\n",
        "from keras.optimizers import SGD\n",
        "from keras.layers import Dense, Dropout, Activation, Flatten, Conv2D\n",
        "from keras.layers import Convolution2D, MaxPooling2D\n",
        "from keras.utils import np_utils, to_categorical\n",
        "from keras.utils import plot_model\n"
      ],
      "execution_count": 3,
      "outputs": [
        {
          "output_type": "stream",
          "text": [
            "Using TensorFlow backend.\n"
          ],
          "name": "stderr"
        }
      ]
    },
    {
      "cell_type": "markdown",
      "metadata": {
        "id": "LCqSIQft5qaB",
        "colab_type": "text"
      },
      "source": [
        "# Load preprocessed data "
      ]
    },
    {
      "cell_type": "markdown",
      "metadata": {
        "id": "aBbX26aXIZgQ",
        "colab_type": "text"
      },
      "source": [
        "For data without categorical names use preprocessed_data.csv as the filename or preprocessed_data_Cat.csv for the (220 columns of) categoric names"
      ]
    },
    {
      "cell_type": "code",
      "metadata": {
        "id": "rGl-k1255zYZ",
        "colab_type": "code",
        "colab": {}
      },
      "source": [
        "\n",
        "url='https://raw.githubusercontent.com/RedevLtd/redev_machine_learning_samples/master/FootballPredicator/preprocessed_data/preprocessed_data.csv'\n",
        "df=pd.read_csv(url)\n",
        "df_array=np.asarray(df)\n"
      ],
      "execution_count": 0,
      "outputs": []
    },
    {
      "cell_type": "code",
      "metadata": {
        "id": "XqAXokw0JTCi",
        "colab_type": "code",
        "colab": {
          "base_uri": "https://localhost:8080/",
          "height": 425
        },
        "outputId": "73d7908a-7e43-4cac-e3a7-fcbda1a6743e"
      },
      "source": [
        "count=0\n",
        "for column in df.columns:\n",
        "  print(str(count) +') '+ str(column))\n",
        "  count+=1\n",
        "  "
      ],
      "execution_count": 5,
      "outputs": [
        {
          "output_type": "stream",
          "text": [
            "0) Div\n",
            "1) MatchNo\n",
            "2) SeasonYear\n",
            "3) SeasonMatchNo\n",
            "4) MatchDate\n",
            "5) HomeTeam\n",
            "6) AwayTeam\n",
            "7) OddsHomeWin\n",
            "8) OddsDraw\n",
            "9) OddsAwayWin\n",
            "10) OddsWinDiff\n",
            "11) Attendance\n",
            "12) L_FTHomeGoals\n",
            "13) L_FTAwayGoals\n",
            "14) L_FTResult\n",
            "15) L_FTHomeWin\n",
            "16) L_FTDraw\n",
            "17) L_FTAwayWin\n",
            "18) L_HTHomeGoals\n",
            "19) L_HTAwayGoals\n",
            "20) L_HTResult\n",
            "21) L_HTHomeWin\n",
            "22) L_HTDraw\n",
            "23) L_HTAwayWin\n"
          ],
          "name": "stdout"
        }
      ]
    },
    {
      "cell_type": "code",
      "metadata": {
        "id": "0RsK8i3d96oD",
        "colab_type": "code",
        "outputId": "5c4961c3-0943-481b-e64a-b2077953cc91",
        "colab": {
          "base_uri": "https://localhost:8080/",
          "height": 213
        }
      },
      "source": [
        "df.head(3)"
      ],
      "execution_count": 6,
      "outputs": [
        {
          "output_type": "execute_result",
          "data": {
            "text/html": [
              "<div>\n",
              "<style scoped>\n",
              "    .dataframe tbody tr th:only-of-type {\n",
              "        vertical-align: middle;\n",
              "    }\n",
              "\n",
              "    .dataframe tbody tr th {\n",
              "        vertical-align: top;\n",
              "    }\n",
              "\n",
              "    .dataframe thead th {\n",
              "        text-align: right;\n",
              "    }\n",
              "</style>\n",
              "<table border=\"1\" class=\"dataframe\">\n",
              "  <thead>\n",
              "    <tr style=\"text-align: right;\">\n",
              "      <th></th>\n",
              "      <th>Div</th>\n",
              "      <th>MatchNo</th>\n",
              "      <th>SeasonYear</th>\n",
              "      <th>SeasonMatchNo</th>\n",
              "      <th>MatchDate</th>\n",
              "      <th>HomeTeam</th>\n",
              "      <th>AwayTeam</th>\n",
              "      <th>OddsHomeWin</th>\n",
              "      <th>OddsDraw</th>\n",
              "      <th>OddsAwayWin</th>\n",
              "      <th>OddsWinDiff</th>\n",
              "      <th>Attendance</th>\n",
              "      <th>L_FTHomeGoals</th>\n",
              "      <th>L_FTAwayGoals</th>\n",
              "      <th>L_FTResult</th>\n",
              "      <th>L_FTHomeWin</th>\n",
              "      <th>L_FTDraw</th>\n",
              "      <th>L_FTAwayWin</th>\n",
              "      <th>L_HTHomeGoals</th>\n",
              "      <th>L_HTAwayGoals</th>\n",
              "      <th>L_HTResult</th>\n",
              "      <th>L_HTHomeWin</th>\n",
              "      <th>L_HTDraw</th>\n",
              "      <th>L_HTAwayWin</th>\n",
              "    </tr>\n",
              "  </thead>\n",
              "  <tbody>\n",
              "    <tr>\n",
              "      <th>0</th>\n",
              "      <td>E0</td>\n",
              "      <td>20000001</td>\n",
              "      <td>2000</td>\n",
              "      <td>1</td>\n",
              "      <td>2000-08-19</td>\n",
              "      <td>Charlton</td>\n",
              "      <td>Man City</td>\n",
              "      <td>2.10</td>\n",
              "      <td>3.2</td>\n",
              "      <td>3.10</td>\n",
              "      <td>1.00</td>\n",
              "      <td>20043.0</td>\n",
              "      <td>4.0</td>\n",
              "      <td>0.0</td>\n",
              "      <td>H</td>\n",
              "      <td>1</td>\n",
              "      <td>0</td>\n",
              "      <td>0</td>\n",
              "      <td>2.0</td>\n",
              "      <td>0.0</td>\n",
              "      <td>H</td>\n",
              "      <td>1</td>\n",
              "      <td>0</td>\n",
              "      <td>0</td>\n",
              "    </tr>\n",
              "    <tr>\n",
              "      <th>1</th>\n",
              "      <td>E0</td>\n",
              "      <td>20000002</td>\n",
              "      <td>2000</td>\n",
              "      <td>2</td>\n",
              "      <td>2000-08-19</td>\n",
              "      <td>Chelsea</td>\n",
              "      <td>West Ham</td>\n",
              "      <td>1.44</td>\n",
              "      <td>3.6</td>\n",
              "      <td>6.50</td>\n",
              "      <td>5.06</td>\n",
              "      <td>34914.0</td>\n",
              "      <td>4.0</td>\n",
              "      <td>2.0</td>\n",
              "      <td>H</td>\n",
              "      <td>1</td>\n",
              "      <td>0</td>\n",
              "      <td>0</td>\n",
              "      <td>1.0</td>\n",
              "      <td>0.0</td>\n",
              "      <td>H</td>\n",
              "      <td>1</td>\n",
              "      <td>0</td>\n",
              "      <td>0</td>\n",
              "    </tr>\n",
              "    <tr>\n",
              "      <th>2</th>\n",
              "      <td>E0</td>\n",
              "      <td>20000003</td>\n",
              "      <td>2000</td>\n",
              "      <td>3</td>\n",
              "      <td>2000-08-19</td>\n",
              "      <td>Coventry</td>\n",
              "      <td>Middlesbrough</td>\n",
              "      <td>2.30</td>\n",
              "      <td>3.2</td>\n",
              "      <td>2.62</td>\n",
              "      <td>0.32</td>\n",
              "      <td>20624.0</td>\n",
              "      <td>1.0</td>\n",
              "      <td>3.0</td>\n",
              "      <td>A</td>\n",
              "      <td>0</td>\n",
              "      <td>0</td>\n",
              "      <td>1</td>\n",
              "      <td>1.0</td>\n",
              "      <td>1.0</td>\n",
              "      <td>D</td>\n",
              "      <td>0</td>\n",
              "      <td>1</td>\n",
              "      <td>0</td>\n",
              "    </tr>\n",
              "  </tbody>\n",
              "</table>\n",
              "</div>"
            ],
            "text/plain": [
              "  Div   MatchNo  SeasonYear  ...  L_HTHomeWin L_HTDraw L_HTAwayWin\n",
              "0  E0  20000001        2000  ...            1        0           0\n",
              "1  E0  20000002        2000  ...            1        0           0\n",
              "2  E0  20000003        2000  ...            0        1           0\n",
              "\n",
              "[3 rows x 24 columns]"
            ]
          },
          "metadata": {
            "tags": []
          },
          "execution_count": 6
        }
      ]
    },
    {
      "cell_type": "code",
      "metadata": {
        "id": "G7g0o-Ew94HF",
        "colab_type": "code",
        "colab": {}
      },
      "source": [
        "input_array=df_array[:,[7,8,9]] # The HDA odds\n",
        "\n",
        "results=df_array[:,[15,16,17]] "
      ],
      "execution_count": 0,
      "outputs": []
    },
    {
      "cell_type": "code",
      "metadata": {
        "id": "ttaZ3eIZLFL7",
        "colab_type": "code",
        "colab": {}
      },
      "source": [
        "# Get the number of inputs and the number of datapoints\n",
        "number_dp=input_array.shape[0]\n",
        "n_inputs= input_array.shape[1] # For robustness, in this case the number of inputs is 3 for the 3 odds"
      ],
      "execution_count": 0,
      "outputs": []
    },
    {
      "cell_type": "code",
      "metadata": {
        "id": "_XwiotBrLFyL",
        "colab_type": "code",
        "colab": {}
      },
      "source": [
        "input_array=input_array.reshape(number_dp,1,1,n_inputs)\n",
        "results=results.reshape(number_dp,1,1,3)"
      ],
      "execution_count": 0,
      "outputs": []
    },
    {
      "cell_type": "markdown",
      "metadata": {
        "id": "ByhJxe4qL7EO",
        "colab_type": "text"
      },
      "source": [
        "# Seperate into training and testing data"
      ]
    },
    {
      "cell_type": "markdown",
      "metadata": {
        "id": "KVnuw-rhPuer",
        "colab_type": "text"
      },
      "source": [
        "Usually approx 80% of the data is used as training data and 20% of the data is used as test data"
      ]
    },
    {
      "cell_type": "code",
      "metadata": {
        "id": "-5rFPx4hL5OX",
        "colab_type": "code",
        "colab": {}
      },
      "source": [
        "p=0.8\n",
        "last_train= math.ceil(p*number_dp)\n",
        "# Training data\n",
        "input_train=input_array[0:last_train,:]\n",
        "results_train=results[0:last_train,:]\n",
        "# Test data\n",
        "input_test=input_array[(last_train+1):number_dp,:]\n",
        "results_test=results[(last_train+1):number_dp,:]"
      ],
      "execution_count": 0,
      "outputs": []
    },
    {
      "cell_type": "code",
      "metadata": {
        "id": "N1JQdlA4dw_V",
        "colab_type": "code",
        "outputId": "1e5560c4-dea7-45da-b297-ebe582576f5a",
        "colab": {
          "base_uri": "https://localhost:8080/",
          "height": 51
        }
      },
      "source": [
        "print(input_test.shape)\n",
        "print(results_test.shape)"
      ],
      "execution_count": 11,
      "outputs": [
        {
          "output_type": "stream",
          "text": [
            "(7558, 1, 1, 3)\n",
            "(7558, 1, 1, 3)\n"
          ],
          "name": "stdout"
        }
      ]
    },
    {
      "cell_type": "markdown",
      "metadata": {
        "id": "yQ0TAiUC3e_K",
        "colab_type": "text"
      },
      "source": [
        "Print input shape"
      ]
    },
    {
      "cell_type": "markdown",
      "metadata": {
        "id": "C_TU-XvtMcee",
        "colab_type": "text"
      },
      "source": [
        "# Define Model Architecture"
      ]
    },
    {
      "cell_type": "code",
      "metadata": {
        "id": "SEzeYidCMhU_",
        "colab_type": "code",
        "colab": {}
      },
      "source": [
        "model=Sequential()\n",
        "#model.add(Dropout(0.1)) \n",
        "model.add(Dense(3,input_shape=(1,1,n_inputs), activation='relu')) # Adds a densely connected NN layer\n",
        "model.add(Dense(3,activation='relu')) \n",
        "model.add(Dense(3,activation='softmax'))"
      ],
      "execution_count": 0,
      "outputs": []
    },
    {
      "cell_type": "markdown",
      "metadata": {
        "id": "le9HQ0CUN3Mt",
        "colab_type": "text"
      },
      "source": [
        "# Compile Model"
      ]
    },
    {
      "cell_type": "markdown",
      "metadata": {
        "id": "bktT906gOno0",
        "colab_type": "text"
      },
      "source": [
        "Categorial crossentropy loss is a loss algorithm for when there are multiple categories to sort each data point into, in this case  home win, draw or away win. The optimizer is a feature that makes the model work better, adam is the default."
      ]
    },
    {
      "cell_type": "code",
      "metadata": {
        "id": "MZXC2fauN-1O",
        "colab_type": "code",
        "colab": {}
      },
      "source": [
        "#opt = SGD(lr=0.000001,momentum=0.004)\n",
        "model.compile(loss='categorical_crossentropy',optimizer='adagrad',metrics=['accuracy']) \n",
        "# Want to know the accuracy of the model so specify it as a metric\n",
        "plot_model(model,to_file='model.png')\n",
        "\n"
      ],
      "execution_count": 0,
      "outputs": []
    },
    {
      "cell_type": "markdown",
      "metadata": {
        "id": "K1wE64qJPmZy",
        "colab_type": "text"
      },
      "source": [
        "# Fit Model from Training Data\n"
      ]
    },
    {
      "cell_type": "markdown",
      "metadata": {
        "id": "csQHyf4yRb9b",
        "colab_type": "text"
      },
      "source": [
        "* The number of epochs are the number of phases of training. \n",
        "* The shuffle parameter determines whether the training data is shuffled between epochs. \n",
        "* Batch size is the number of data points between updates to the weights.\n",
        "* **Lower batch size** and a **greater number of epochs** can increase accuracy\n",
        "\n"
      ]
    },
    {
      "cell_type": "code",
      "metadata": {
        "id": "9HayREmuaTTB",
        "colab_type": "code",
        "outputId": "6f64e24c-f3a4-48d1-c0c0-82b316c85bda",
        "colab": {
          "base_uri": "https://localhost:8080/",
          "height": 1000
        }
      },
      "source": [
        "\n",
        "\n",
        "model.fit(input_train,results_train,batch_size=500,epochs=50,verbose=1,shuffle=1)"
      ],
      "execution_count": 20,
      "outputs": [
        {
          "output_type": "stream",
          "text": [
            "Epoch 1/50\n",
            "30237/30237 [==============================] - 1s 30us/step - loss: 1.0540 - acc: 0.4683\n",
            "Epoch 2/50\n",
            "30237/30237 [==============================] - 0s 16us/step - loss: 1.0371 - acc: 0.4725\n",
            "Epoch 3/50\n",
            "30237/30237 [==============================] - 0s 14us/step - loss: 1.0365 - acc: 0.4722\n",
            "Epoch 4/50\n",
            "30237/30237 [==============================] - 0s 15us/step - loss: 1.0363 - acc: 0.4721\n",
            "Epoch 5/50\n",
            "30237/30237 [==============================] - 0s 14us/step - loss: 1.0361 - acc: 0.4720\n",
            "Epoch 6/50\n",
            "30237/30237 [==============================] - 0s 14us/step - loss: 1.0360 - acc: 0.4718\n",
            "Epoch 7/50\n",
            "30237/30237 [==============================] - 0s 14us/step - loss: 1.0359 - acc: 0.4729\n",
            "Epoch 8/50\n",
            "30237/30237 [==============================] - 0s 13us/step - loss: 1.0358 - acc: 0.4732\n",
            "Epoch 9/50\n",
            "30237/30237 [==============================] - 0s 15us/step - loss: 1.0358 - acc: 0.4716\n",
            "Epoch 10/50\n",
            "30237/30237 [==============================] - 0s 14us/step - loss: 1.0358 - acc: 0.4728\n",
            "Epoch 11/50\n",
            "30237/30237 [==============================] - 0s 14us/step - loss: 1.0358 - acc: 0.4729\n",
            "Epoch 12/50\n",
            "30237/30237 [==============================] - 0s 16us/step - loss: 1.0357 - acc: 0.4723\n",
            "Epoch 13/50\n",
            "30237/30237 [==============================] - 0s 14us/step - loss: 1.0357 - acc: 0.4726\n",
            "Epoch 14/50\n",
            "30237/30237 [==============================] - 0s 14us/step - loss: 1.0357 - acc: 0.4720\n",
            "Epoch 15/50\n",
            "30237/30237 [==============================] - 0s 13us/step - loss: 1.0357 - acc: 0.4718\n",
            "Epoch 16/50\n",
            "30237/30237 [==============================] - 0s 15us/step - loss: 1.0356 - acc: 0.4717\n",
            "Epoch 17/50\n",
            "30237/30237 [==============================] - 0s 15us/step - loss: 1.0356 - acc: 0.4729\n",
            "Epoch 18/50\n",
            "30237/30237 [==============================] - 0s 16us/step - loss: 1.0356 - acc: 0.4729\n",
            "Epoch 19/50\n",
            "30237/30237 [==============================] - 0s 14us/step - loss: 1.0356 - acc: 0.4727\n",
            "Epoch 20/50\n",
            "30237/30237 [==============================] - 0s 14us/step - loss: 1.0356 - acc: 0.4728\n",
            "Epoch 21/50\n",
            "30237/30237 [==============================] - 0s 12us/step - loss: 1.0356 - acc: 0.4729\n",
            "Epoch 22/50\n",
            "30237/30237 [==============================] - 0s 13us/step - loss: 1.0356 - acc: 0.4727\n",
            "Epoch 23/50\n",
            "30237/30237 [==============================] - 0s 12us/step - loss: 1.0356 - acc: 0.4729\n",
            "Epoch 24/50\n",
            "30237/30237 [==============================] - 0s 15us/step - loss: 1.0355 - acc: 0.4721\n",
            "Epoch 25/50\n",
            "30237/30237 [==============================] - 0s 15us/step - loss: 1.0356 - acc: 0.4727\n",
            "Epoch 26/50\n",
            "30237/30237 [==============================] - 0s 15us/step - loss: 1.0355 - acc: 0.4728\n",
            "Epoch 27/50\n",
            "30237/30237 [==============================] - 0s 15us/step - loss: 1.0355 - acc: 0.4726\n",
            "Epoch 28/50\n",
            "30237/30237 [==============================] - 0s 15us/step - loss: 1.0355 - acc: 0.4720\n",
            "Epoch 29/50\n",
            "30237/30237 [==============================] - 0s 13us/step - loss: 1.0355 - acc: 0.4724\n",
            "Epoch 30/50\n",
            "30237/30237 [==============================] - 0s 14us/step - loss: 1.0355 - acc: 0.4730\n",
            "Epoch 31/50\n",
            "30237/30237 [==============================] - 0s 16us/step - loss: 1.0355 - acc: 0.4728\n",
            "Epoch 32/50\n",
            "30237/30237 [==============================] - 0s 14us/step - loss: 1.0355 - acc: 0.4728\n",
            "Epoch 33/50\n",
            "30237/30237 [==============================] - 0s 16us/step - loss: 1.0355 - acc: 0.4724\n",
            "Epoch 34/50\n",
            "30237/30237 [==============================] - 0s 14us/step - loss: 1.0355 - acc: 0.4730\n",
            "Epoch 35/50\n",
            "30237/30237 [==============================] - 0s 13us/step - loss: 1.0355 - acc: 0.4722\n",
            "Epoch 36/50\n",
            "30237/30237 [==============================] - 0s 14us/step - loss: 1.0355 - acc: 0.4729\n",
            "Epoch 37/50\n",
            "30237/30237 [==============================] - 0s 14us/step - loss: 1.0355 - acc: 0.4728\n",
            "Epoch 38/50\n",
            "30237/30237 [==============================] - 0s 11us/step - loss: 1.0355 - acc: 0.4729\n",
            "Epoch 39/50\n",
            "30237/30237 [==============================] - 0s 14us/step - loss: 1.0355 - acc: 0.4731\n",
            "Epoch 40/50\n",
            "30237/30237 [==============================] - 0s 15us/step - loss: 1.0355 - acc: 0.4726\n",
            "Epoch 41/50\n",
            "30237/30237 [==============================] - 0s 16us/step - loss: 1.0355 - acc: 0.4729\n",
            "Epoch 42/50\n",
            "30237/30237 [==============================] - 0s 15us/step - loss: 1.0355 - acc: 0.4721\n",
            "Epoch 43/50\n",
            "30237/30237 [==============================] - 0s 13us/step - loss: 1.0355 - acc: 0.4729\n",
            "Epoch 44/50\n",
            "30237/30237 [==============================] - 0s 11us/step - loss: 1.0354 - acc: 0.4727\n",
            "Epoch 45/50\n",
            "30237/30237 [==============================] - 0s 13us/step - loss: 1.0354 - acc: 0.4728\n",
            "Epoch 46/50\n",
            "30237/30237 [==============================] - 0s 15us/step - loss: 1.0354 - acc: 0.4725\n",
            "Epoch 47/50\n",
            "30237/30237 [==============================] - 0s 11us/step - loss: 1.0354 - acc: 0.4729\n",
            "Epoch 48/50\n",
            "30237/30237 [==============================] - 0s 14us/step - loss: 1.0354 - acc: 0.4729\n",
            "Epoch 49/50\n",
            "30237/30237 [==============================] - 0s 14us/step - loss: 1.0354 - acc: 0.4727\n",
            "Epoch 50/50\n",
            "30237/30237 [==============================] - 0s 15us/step - loss: 1.0354 - acc: 0.4728\n"
          ],
          "name": "stdout"
        },
        {
          "output_type": "execute_result",
          "data": {
            "text/plain": [
              "<keras.callbacks.History at 0x7f51b18a4c18>"
            ]
          },
          "metadata": {
            "tags": []
          },
          "execution_count": 20
        }
      ]
    },
    {
      "cell_type": "markdown",
      "metadata": {
        "id": "hr573gZNPn36",
        "colab_type": "text"
      },
      "source": [
        "# Evaluate Model"
      ]
    },
    {
      "cell_type": "code",
      "metadata": {
        "id": "yBkbMC9R-72_",
        "colab_type": "code",
        "outputId": "d7510d42-88bb-4f91-88ef-526e70e6a697",
        "colab": {
          "base_uri": "https://localhost:8080/",
          "height": 68
        }
      },
      "source": [
        "[loss_value,accuracy]=model.evaluate(input_test,results_test,verbose=1)\n",
        "print(\"The loss value for the model is \"+ str(loss_value))\n",
        "print(\"The accuracy value for the model is \"+\"{:.3f}\".format(accuracy))\n"
      ],
      "execution_count": 21,
      "outputs": [
        {
          "output_type": "stream",
          "text": [
            "7558/7558 [==============================] - 1s 79us/step\n",
            "The loss value for the model is 1.0247916758896403\n",
            "The accuracy value for the model is 0.486\n"
          ],
          "name": "stdout"
        }
      ]
    },
    {
      "cell_type": "markdown",
      "metadata": {
        "id": "ixKwt9tqcUti",
        "colab_type": "text"
      },
      "source": [
        "# Make Prediction"
      ]
    },
    {
      "cell_type": "markdown",
      "metadata": {
        "colab_type": "text",
        "id": "KiavvIkzM_PB"
      },
      "source": [
        "# Predict Class"
      ]
    },
    {
      "cell_type": "code",
      "metadata": {
        "id": "kF6rJ2f44Qkd",
        "colab_type": "code",
        "outputId": "433e196c-c1f9-4403-f644-10f482a805a5",
        "colab": {
          "base_uri": "https://localhost:8080/",
          "height": 85
        }
      },
      "source": [
        "h=float(input('Enter odds of home team win: '))\n",
        "d=float(input('Enter odds of draw: '))\n",
        "a=float(input('Enter odds of away team win: '))\n",
        "odds_input=np.asarray([h,d,a]).reshape(1,1,1,3)\n",
        "predicted_outcome=model.predict_classes(odds_input)\n",
        "if predicted_outcome==0:\n",
        "  result = 'the home team will win'\n",
        "elif predicted_outcome==1:\n",
        "  result= 'the match will be a draw'\n",
        "elif predicted_outcome==2:\n",
        "  result='the away team will win'\n",
        "print('The model predicts that '+result)"
      ],
      "execution_count": 22,
      "outputs": [
        {
          "output_type": "stream",
          "text": [
            "Enter odds of home team win: 1.8\n",
            "Enter odds of draw: 4\n",
            "Enter odds of away team win: 5\n",
            "The model predicts that the home team will win\n"
          ],
          "name": "stdout"
        }
      ]
    }
  ]
}