{
  "nbformat": 4,
  "nbformat_minor": 0,
  "metadata": {
    "colab": {
      "name": "fp_fetch_preprocess",
      "version": "0.3.2",
      "provenance": [],
      "collapsed_sections": [
        "k81FqaLKZkGG",
        "scR_PUHVSzB4"
      ],
      "include_colab_link": true
    },
    "kernelspec": {
      "name": "python3",
      "display_name": "Python 3"
    }
  },
  "cells": [
    {
      "cell_type": "markdown",
      "metadata": {
        "id": "view-in-github",
        "colab_type": "text"
      },
      "source": [
        "<a href=\"https://colab.research.google.com/github/annabelcoates/redev_machine_learning_samples/blob/master/FootballPredicator/fp_fetch_preprocess.ipynb\" target=\"_parent\"><img src=\"https://colab.research.google.com/assets/colab-badge.svg\" alt=\"Open In Colab\"/></a>"
      ]
    },
    {
      "cell_type": "markdown",
      "metadata": {
        "id": "k81FqaLKZkGG",
        "colab_type": "text"
      },
      "source": [
        "#Install packages"
      ]
    },
    {
      "cell_type": "code",
      "metadata": {
        "id": "7EHP49s-QHAG",
        "colab_type": "code",
        "outputId": "6823642b-e4c2-42bf-8036-0ac429768b09",
        "colab": {
          "base_uri": "https://localhost:8080/"
        }
      },
      "source": [
        "!pip install PyGithub\n",
        "!pip install import-ipynb\n",
        "!pip install -U -q PyDrive\n"
      ],
      "execution_count": 0,
      "outputs": [
        {
          "output_type": "stream",
          "text": [
            "Requirement already satisfied: PyGithub in /usr/local/lib/python3.6/dist-packages (1.43.8)\n",
            "Requirement already satisfied: pyjwt in /usr/local/lib/python3.6/dist-packages (from PyGithub) (1.7.1)\n",
            "Requirement already satisfied: requests>=2.14.0 in /usr/local/lib/python3.6/dist-packages (from PyGithub) (2.21.0)\n",
            "Requirement already satisfied: deprecated in /usr/local/lib/python3.6/dist-packages (from PyGithub) (1.2.6)\n",
            "Requirement already satisfied: urllib3<1.25,>=1.21.1 in /usr/local/lib/python3.6/dist-packages (from requests>=2.14.0->PyGithub) (1.24.3)\n",
            "Requirement already satisfied: idna<2.9,>=2.5 in /usr/local/lib/python3.6/dist-packages (from requests>=2.14.0->PyGithub) (2.8)\n",
            "Requirement already satisfied: chardet<3.1.0,>=3.0.2 in /usr/local/lib/python3.6/dist-packages (from requests>=2.14.0->PyGithub) (3.0.4)\n",
            "Requirement already satisfied: certifi>=2017.4.17 in /usr/local/lib/python3.6/dist-packages (from requests>=2.14.0->PyGithub) (2019.6.16)\n",
            "Requirement already satisfied: wrapt<2,>=1.10 in /usr/local/lib/python3.6/dist-packages (from deprecated->PyGithub) (1.11.2)\n",
            "Requirement already satisfied: import-ipynb in /usr/local/lib/python3.6/dist-packages (0.1.3)\n"
          ],
          "name": "stdout"
        }
      ]
    },
    {
      "cell_type": "markdown",
      "metadata": {
        "id": "qevv7bB2Zmkz",
        "colab_type": "text"
      },
      "source": [
        "# Import Libraries"
      ]
    },
    {
      "cell_type": "code",
      "metadata": {
        "id": "fd8s_7-EQjgU",
        "colab_type": "code",
        "colab": {}
      },
      "source": [
        "import sys\n",
        "import os;\n",
        "import datetime;\n",
        "import pandas as pd\n",
        "import numpy as np\n",
        "import urllib.request\n",
        "from github import Github\n",
        "import import_ipynb"
      ],
      "execution_count": 0,
      "outputs": []
    },
    {
      "cell_type": "markdown",
      "metadata": {
        "id": "scR_PUHVSzB4",
        "colab_type": "text"
      },
      "source": [
        "# Define `username` and `password` Variables"
      ]
    },
    {
      "cell_type": "code",
      "metadata": {
        "id": "stctLBPAS51v",
        "colab_type": "code",
        "colab": {}
      },
      "source": [
        "username='annabelcoates'\n",
        "password='tammy 4 PRES'"
      ],
      "execution_count": 0,
      "outputs": []
    },
    {
      "cell_type": "markdown",
      "metadata": {
        "id": "-UpdcrK4eHcB",
        "colab_type": "text"
      },
      "source": [
        "# Define Fetch Functions"
      ]
    },
    {
      "cell_type": "code",
      "metadata": {
        "id": "AErRS7PmEtlh",
        "colab_type": "code",
        "colab": {}
      },
      "source": [
        "dateparselambda  = lambda x : (read_csv_date(x))\n",
        "\n",
        "def read_csv_date( x ):\n",
        "    try:\n",
        "        if len(x) > 8:\n",
        "            return pd.datetime.strptime(x, \"%d/%m/%Y\")\n",
        "        else:\n",
        "            return pd.datetime.strptime(x, \"%d/%m/%y\")\n",
        "    except:\n",
        "        return datetime.datetime(1970,1,1,0,0)\n",
        "\n",
        "def get_raw_dataframe():\n",
        "  url_base='https://raw.githubusercontent.com/RedevLtd/ml-colab-test-1/master/football_data/' # Read from github repository \n",
        "  start_year=0\n",
        "  end_year=19\n",
        "  leagues = [\"E0\", \"E1\", \"E2\", \"E3\"]\n",
        "  #name_list=['Div','Date','HomeTeam','AwayTeam','FTHG','FTAG','FTR','HTHG','HTAG','HTR','Attendance',\n",
        "  #            'Referee','HS','AS','HST','AST','HHW','AHW','HC','AC','HF','AF','HO','AO','HY','AY','HR',\n",
        "  #            'AR','HBP','ABP','GBH','GBD','GBA','IWH','IWD','IWA','LBH','LBD','LBA','SBH','SBD','SBA',\n",
        " #             'SYH',\t'SYD',\t'SYA','WHH','WHD','WHA']\n",
        "  fields_attendance=[\"Div\",\"Date\",\"HomeTeam\",\"AwayTeam\",\"FTHG\",\"FTAG\",\"FTR\",\"HTHG\",\"HTAG\",\"HTR\",\"Attendance\",\"WHH\",\"WHD\",\"WHA\"]\n",
        "  fields=[\"Div\",\"Date\",\"HomeTeam\",\"AwayTeam\",\"FTHG\",\"FTAG\",\"FTR\",\"HTHG\",\"HTAG\",\"HTR\",\"WHH\",\"WHD\",\"WHA\"]\n",
        "  df=pd.DataFrame()\n",
        "\n",
        "  for year in range(start_year,end_year):\n",
        "    season= format( year, '02d') + format( year+1, '02d')\n",
        "    for league in leagues:\n",
        "      url=url_base+ league +'_'+str(season)+'.csv'\n",
        "      try:\n",
        "        temp_df= pd.read_csv( url, error_bad_lines = True, keep_default_na = True,\n",
        "                      na_filter = True, skip_blank_lines = False,\n",
        "                      parse_dates = [\"Date\"], date_parser=dateparselambda,\n",
        "                      encoding = \"ISO-8859-1\", usecols=fields_attendance)\n",
        "      except: # If it can't find the attendance column\n",
        "        temp_df=pd.read_csv( url, error_bad_lines = True, keep_default_na = True,\n",
        "                      na_filter = True, skip_blank_lines = False,\n",
        "                      parse_dates = [\"Date\"], date_parser=dateparselambda,\n",
        "                      encoding = \"ISO-8859-1\", usecols=fields)\n",
        "      df=pd.concat([df,temp_df],axis=0,sort=False)\n",
        "\n",
        "  df.reset_index(inplace=True)\n",
        "  df=df.drop(['index'],axis=1)\n",
        "  return df\n"
      ],
      "execution_count": 0,
      "outputs": []
    },
    {
      "cell_type": "markdown",
      "metadata": {
        "id": "7Ma3NrR3aOP6",
        "colab_type": "text"
      },
      "source": [
        "# Define preprocessing functions"
      ]
    },
    {
      "cell_type": "code",
      "metadata": {
        "id": "r5idNp6KLf4t",
        "colab_type": "code",
        "colab": {}
      },
      "source": [
        "def season_year( row ) : \n",
        "    year = row.MatchDate.year\n",
        "    month = row.MatchDate.month\n",
        "    if month < 8 :\n",
        "        return year - 1;\n",
        "    else:\n",
        "        return year;"
      ],
      "execution_count": 0,
      "outputs": []
    },
    {
      "cell_type": "code",
      "metadata": {
        "id": "OR_nBCzKAPaJ",
        "colab_type": "code",
        "colab": {}
      },
      "source": [
        "def correct_football_dataframe( df ): \n",
        "    \"corrects the data in the dataframe\"\n",
        "    # Full column names\n",
        "    df.rename(columns={\n",
        "                       \"Date\": \"MatchDate\",\n",
        "                       \"FTHG\": \"L_FTHomeGoals\",\n",
        "                       \"FTAG\": \"L_FTAwayGoals\",\n",
        "                       \"FTR\":  \"L_FTResult\",\n",
        "                       \"HTHG\": \"L_HTHomeGoals\",\n",
        "                       \"HTAG\": \"L_HTAwayGoals\",\n",
        "                       \"HTR\":  \"L_HTResult\",\n",
        "                       \"WHH\":  \"OddsHomeWin\",    # Taking odds from William Hill as consistant in all years dataset\n",
        "                       \"WHD\": \"OddsDraw\",\n",
        "                       \"WHA\":  \"OddsAwayWin\",\n",
        "                       }, inplace=True)\n",
        "    \n",
        "    \n",
        "    # Add extra label data (breaking down some complex types to simple labels)\n",
        "    df[\"SeasonYear\"] = df.apply( lambda row: season_year(row), axis=1)\n",
        "    df[\"SeasonMatchNo\"] = range( 1, len(df) + 1 )\n",
        "    df[\"OddsWinDiff\"] = df.apply( lambda row: abs(row.OddsHomeWin-row.OddsAwayWin), axis=1)\n",
        "    df[\"MatchNo\"] = df.apply( lambda row: row.SeasonYear*10000+row.SeasonMatchNo, axis=1)\n",
        "    df[\"FDIndex\"] = df.apply( lambda row: str(row.Div)+str(row.MatchNo), axis=1)\n",
        "    df.set_index( \"FDIndex\", inplace=True)\n",
        "    \n",
        "    # Correct some misspelt teams\n",
        "    df[\"HomeTeam\"] = df[\"HomeTeam\"].apply( lambda team: \"Middlesbrough\" if team == \"Middlesboro\" else team )\n",
        "    df[\"AwayTeam\"] = df[\"AwayTeam\"].apply( lambda team: \"Middlesbrough\" if team == \"Middlesboro\" else team )\n",
        "  \n",
        "    # Add labels\n",
        "    df[\"L_FTHomeWin\"] = df.apply(lambda row: 1 if row.L_FTResult == \"H\" else 0, axis=1)\n",
        "    df[\"L_FTDraw\"]    = df.apply(lambda row: 1 if row.L_FTResult == \"D\" else 0, axis=1)\n",
        "    df[\"L_FTAwayWin\"] = df.apply(lambda row: 1 if row.L_FTResult == \"A\" else 0, axis=1)\n",
        "    df[\"L_HTHomeWin\"] = df.apply(lambda row: 1 if row.L_HTResult == \"H\" else 0, axis=1)\n",
        "    df[\"L_HTDraw\"]    = df.apply(lambda row: 1 if row.L_HTResult == \"D\" else 0, axis=1)\n",
        "    df[\"L_HTAwayWin\"] = df.apply(lambda row: 1 if row.L_HTResult == \"A\" else 0, axis=1)\n",
        "    df[\"Attendance\"]=df[\"Attendance\"]\n",
        "    \n",
        "    #df = add_football_features( df )\n",
        "  \n",
        "    return df  \n",
        "\n"
      ],
      "execution_count": 0,
      "outputs": []
    },
    {
      "cell_type": "code",
      "metadata": {
        "id": "UG88j2Te64HM",
        "colab_type": "code",
        "colab": {}
      },
      "source": [
        "def remove_null_lines(df):\n",
        "  \"Removes null lines of data which are created between the raw data files\"\n",
        "  df=df[df.MatchDate!=datetime.datetime(1970,1,1)]#\"1970-01-01\"\n",
        "  return df"
      ],
      "execution_count": 0,
      "outputs": []
    },
    {
      "cell_type": "code",
      "metadata": {
        "id": "qe0vxpPILj5H",
        "colab_type": "code",
        "colab": {}
      },
      "source": [
        "def preprocess () :\n",
        "    'processes the specified raw directory path and puts the results in the results file'\n",
        "    df = get_raw_dataframe() # This function comes from the fetcher code that is executed at the beginning\n",
        "    df.fillna(0)\n",
        "    df= correct_football_dataframe(df)\n",
        "    df=remove_null_lines(df)\n",
        "    #df.sort_values( by = [\"MatchDate\", \"Div\"], ascending = [1,1], inplace = True)\n",
        "    df = df[[  \"Div\", \"MatchNo\", \"SeasonYear\", \"SeasonMatchNo\", \"MatchDate\",\"HomeTeam\",\"AwayTeam\",\"OddsHomeWin\",\"OddsDraw\",\"OddsAwayWin\",\n",
        "             \"OddsWinDiff\",\"Attendance\",\"L_FTHomeGoals\",\"L_FTAwayGoals\",\"L_FTResult\",\"L_FTHomeWin\",\"L_FTDraw\", \"L_FTAwayWin\",\n",
        "             \"L_HTHomeGoals\",\"L_HTAwayGoals\",\"L_HTResult\", \"L_HTHomeWin\",\"L_HTDraw\", \"L_HTAwayWin\"]]\n",
        "\n",
        "    return df\n",
        "  "
      ],
      "execution_count": 0,
      "outputs": []
    },
    {
      "cell_type": "code",
      "metadata": {
        "id": "Wc4J4v08LOp4",
        "colab_type": "code",
        "colab": {}
      },
      "source": [
        "def write_preprocessed_dataframe(df, username=username, password=password):\n",
        "  'writes the dataframe to a csv file in the redev_machine_learning_samples repository, cannot overwrite existing files'\n",
        "  # First write to a local csv temporarily\n",
        "  csv_text=df.to_csv(sep=',',na_rep=0,index=False)\n",
        "  # Log onto github and upload a new csv file\n",
        "  path='FootballPredicator/preprocessed_data/preprocessed_data.csv'\n",
        "\n",
        "  g=Github(username,password)\n",
        "  user=g.get_user()\n",
        "  redev=g.get_organization('RedevLtd')\n",
        "  repo=redev.get_repo(\"redev_machine_learning_samples\") # hardcoded for now\n",
        "  try:\n",
        "    repo.create_file(path=path,message='Created preprocessed_data.csv',content=csv_text)\n",
        "    print('Uploaded to github')\n",
        "  except:\n",
        "    print('File already exists')\n",
        "  return "
      ],
      "execution_count": 0,
      "outputs": []
    },
    {
      "cell_type": "markdown",
      "metadata": {
        "id": "iC-xzacVgL4w",
        "colab_type": "text"
      },
      "source": [
        "Create a dataframe with processed data"
      ]
    },
    {
      "cell_type": "code",
      "metadata": {
        "id": "cdCkr_qyRJRs",
        "colab_type": "code",
        "colab": {}
      },
      "source": [
        "df=preprocess()\n"
      ],
      "execution_count": 0,
      "outputs": []
    },
    {
      "cell_type": "markdown",
      "metadata": {
        "id": "tkmpK16gcv3y",
        "colab_type": "text"
      },
      "source": [
        "Display the data in a table"
      ]
    },
    {
      "cell_type": "code",
      "metadata": {
        "id": "gKe7if73gdiQ",
        "colab_type": "code",
        "outputId": "1728f374-21c1-436d-de4e-a0c690e0ef76",
        "colab": {
          "base_uri": "https://localhost:8080/",
          "height": 244
        }
      },
      "source": [
        "df.head(3)"
      ],
      "execution_count": 0,
      "outputs": [
        {
          "output_type": "execute_result",
          "data": {
            "text/html": [
              "<div>\n",
              "<style scoped>\n",
              "    .dataframe tbody tr th:only-of-type {\n",
              "        vertical-align: middle;\n",
              "    }\n",
              "\n",
              "    .dataframe tbody tr th {\n",
              "        vertical-align: top;\n",
              "    }\n",
              "\n",
              "    .dataframe thead th {\n",
              "        text-align: right;\n",
              "    }\n",
              "</style>\n",
              "<table border=\"1\" class=\"dataframe\">\n",
              "  <thead>\n",
              "    <tr style=\"text-align: right;\">\n",
              "      <th></th>\n",
              "      <th>Div</th>\n",
              "      <th>MatchNo</th>\n",
              "      <th>SeasonYear</th>\n",
              "      <th>SeasonMatchNo</th>\n",
              "      <th>MatchDate</th>\n",
              "      <th>HomeTeam</th>\n",
              "      <th>AwayTeam</th>\n",
              "      <th>OddsHomeWin</th>\n",
              "      <th>OddsDraw</th>\n",
              "      <th>OddsAwayWin</th>\n",
              "      <th>OddsWinDiff</th>\n",
              "      <th>Attendance</th>\n",
              "      <th>L_FTHomeGoals</th>\n",
              "      <th>L_FTAwayGoals</th>\n",
              "      <th>L_FTResult</th>\n",
              "      <th>L_FTHomeWin</th>\n",
              "      <th>L_FTDraw</th>\n",
              "      <th>L_FTAwayWin</th>\n",
              "      <th>L_HTHomeGoals</th>\n",
              "      <th>L_HTAwayGoals</th>\n",
              "      <th>L_HTResult</th>\n",
              "      <th>L_HTHomeWin</th>\n",
              "      <th>L_HTDraw</th>\n",
              "      <th>L_HTAwayWin</th>\n",
              "    </tr>\n",
              "    <tr>\n",
              "      <th>FDIndex</th>\n",
              "      <th></th>\n",
              "      <th></th>\n",
              "      <th></th>\n",
              "      <th></th>\n",
              "      <th></th>\n",
              "      <th></th>\n",
              "      <th></th>\n",
              "      <th></th>\n",
              "      <th></th>\n",
              "      <th></th>\n",
              "      <th></th>\n",
              "      <th></th>\n",
              "      <th></th>\n",
              "      <th></th>\n",
              "      <th></th>\n",
              "      <th></th>\n",
              "      <th></th>\n",
              "      <th></th>\n",
              "      <th></th>\n",
              "      <th></th>\n",
              "      <th></th>\n",
              "      <th></th>\n",
              "      <th></th>\n",
              "      <th></th>\n",
              "    </tr>\n",
              "  </thead>\n",
              "  <tbody>\n",
              "    <tr>\n",
              "      <th>E020000001</th>\n",
              "      <td>E0</td>\n",
              "      <td>20000001</td>\n",
              "      <td>2000</td>\n",
              "      <td>1</td>\n",
              "      <td>2000-08-19</td>\n",
              "      <td>Charlton</td>\n",
              "      <td>Man City</td>\n",
              "      <td>2.10</td>\n",
              "      <td>3.2</td>\n",
              "      <td>3.10</td>\n",
              "      <td>1.00</td>\n",
              "      <td>20043.0</td>\n",
              "      <td>4.0</td>\n",
              "      <td>0.0</td>\n",
              "      <td>H</td>\n",
              "      <td>1</td>\n",
              "      <td>0</td>\n",
              "      <td>0</td>\n",
              "      <td>2.0</td>\n",
              "      <td>0.0</td>\n",
              "      <td>H</td>\n",
              "      <td>1</td>\n",
              "      <td>0</td>\n",
              "      <td>0</td>\n",
              "    </tr>\n",
              "    <tr>\n",
              "      <th>E020000002</th>\n",
              "      <td>E0</td>\n",
              "      <td>20000002</td>\n",
              "      <td>2000</td>\n",
              "      <td>2</td>\n",
              "      <td>2000-08-19</td>\n",
              "      <td>Chelsea</td>\n",
              "      <td>West Ham</td>\n",
              "      <td>1.44</td>\n",
              "      <td>3.6</td>\n",
              "      <td>6.50</td>\n",
              "      <td>5.06</td>\n",
              "      <td>34914.0</td>\n",
              "      <td>4.0</td>\n",
              "      <td>2.0</td>\n",
              "      <td>H</td>\n",
              "      <td>1</td>\n",
              "      <td>0</td>\n",
              "      <td>0</td>\n",
              "      <td>1.0</td>\n",
              "      <td>0.0</td>\n",
              "      <td>H</td>\n",
              "      <td>1</td>\n",
              "      <td>0</td>\n",
              "      <td>0</td>\n",
              "    </tr>\n",
              "    <tr>\n",
              "      <th>E020000003</th>\n",
              "      <td>E0</td>\n",
              "      <td>20000003</td>\n",
              "      <td>2000</td>\n",
              "      <td>3</td>\n",
              "      <td>2000-08-19</td>\n",
              "      <td>Coventry</td>\n",
              "      <td>Middlesbrough</td>\n",
              "      <td>2.30</td>\n",
              "      <td>3.2</td>\n",
              "      <td>2.62</td>\n",
              "      <td>0.32</td>\n",
              "      <td>20624.0</td>\n",
              "      <td>1.0</td>\n",
              "      <td>3.0</td>\n",
              "      <td>A</td>\n",
              "      <td>0</td>\n",
              "      <td>0</td>\n",
              "      <td>1</td>\n",
              "      <td>1.0</td>\n",
              "      <td>1.0</td>\n",
              "      <td>D</td>\n",
              "      <td>0</td>\n",
              "      <td>1</td>\n",
              "      <td>0</td>\n",
              "    </tr>\n",
              "  </tbody>\n",
              "</table>\n",
              "</div>"
            ],
            "text/plain": [
              "           Div   MatchNo  SeasonYear  ...  L_HTHomeWin L_HTDraw L_HTAwayWin\n",
              "FDIndex                               ...                                  \n",
              "E020000001  E0  20000001        2000  ...            1        0           0\n",
              "E020000002  E0  20000002        2000  ...            1        0           0\n",
              "E020000003  E0  20000003        2000  ...            0        1           0\n",
              "\n",
              "[3 rows x 24 columns]"
            ]
          },
          "metadata": {
            "tags": []
          },
          "execution_count": 67
        }
      ]
    },
    {
      "cell_type": "markdown",
      "metadata": {
        "id": "IdX9C6AwgTFv",
        "colab_type": "text"
      },
      "source": [
        "Write the dataframe to a csv file on github"
      ]
    },
    {
      "cell_type": "code",
      "metadata": {
        "id": "OAHKdi7Ua1Ib",
        "colab_type": "code",
        "outputId": "52aa2c43-4b94-4f24-f352-678853a3febf",
        "colab": {
          "base_uri": "https://localhost:8080/",
          "height": 34
        }
      },
      "source": [
        "write_preprocessed_dataframe(df)\n",
        "# Cannot overwrite a csv file with the same name"
      ],
      "execution_count": 0,
      "outputs": [
        {
          "output_type": "stream",
          "text": [
            "Uploaded to github\n"
          ],
          "name": "stdout"
        }
      ]
    }
  ]
}