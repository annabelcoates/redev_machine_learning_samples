{
  "nbformat": 4,
  "nbformat_minor": 0,
  "metadata": {
    "colab": {
      "name": "fp_train_names_odds",
      "version": "0.3.2",
      "provenance": [],
      "collapsed_sections": [],
      "include_colab_link": true
    },
    "kernelspec": {
      "name": "python3",
      "display_name": "Python 3"
    },
    "accelerator": "GPU"
  },
  "cells": [
    {
      "cell_type": "markdown",
      "metadata": {
        "id": "view-in-github",
        "colab_type": "text"
      },
      "source": [
        "<a href=\"https://colab.research.google.com/github/annabelcoates/redev_machine_learning_samples/blob/master/fp_train_names_odds.ipynb\" target=\"_parent\"><img src=\"https://colab.research.google.com/assets/colab-badge.svg\" alt=\"Open In Colab\"/></a>"
      ]
    },
    {
      "cell_type": "markdown",
      "metadata": {
        "id": "T4Ag6MOpxqBb",
        "colab_type": "text"
      },
      "source": [
        "# Import libraries\n"
      ]
    },
    {
      "cell_type": "code",
      "metadata": {
        "colab_type": "code",
        "outputId": "2956d66e-e399-4515-af8a-0857fd44ba06",
        "id": "tdkZnyog8T4q",
        "colab": {
          "base_uri": "https://localhost:8080/",
          "height": 34
        }
      },
      "source": [
        "import sys\n",
        "import os\n",
        "import urllib.request\n",
        "import datetime;\n",
        "import pandas as pd\n",
        "import numpy as np\n",
        "import math\n",
        "\n",
        "from keras import optimizers\n",
        "from keras.models import Sequential\n",
        "from keras.optimizers import SGD\n",
        "from keras.layers import Dense, Dropout, Activation, Flatten, Conv2D\n",
        "from keras.layers import Convolution2D, MaxPooling2D\n",
        "from keras.utils import np_utils, to_categorical\n",
        "from keras.utils import plot_model\n"
      ],
      "execution_count": 0,
      "outputs": [
        {
          "output_type": "stream",
          "text": [
            "Using TensorFlow backend.\n"
          ],
          "name": "stderr"
        }
      ]
    },
    {
      "cell_type": "markdown",
      "metadata": {
        "id": "NZ3ZkysqbLOS",
        "colab_type": "text"
      },
      "source": [
        "# Load Preprocessed Data"
      ]
    },
    {
      "cell_type": "code",
      "metadata": {
        "id": "QNU04VJ4bK4M",
        "colab_type": "code",
        "colab": {}
      },
      "source": [
        "url='https://raw.githubusercontent.com/RedevLtd/redev_machine_learning_samples/master/FootballPredicator/preprocessed_data/preprocessed_data.csv'\n",
        "raw_df=pd.read_csv(url)"
      ],
      "execution_count": 0,
      "outputs": []
    },
    {
      "cell_type": "markdown",
      "metadata": {
        "id": "MAJdenS5bOzQ",
        "colab_type": "text"
      },
      "source": [
        "# Add Categoric Names to the Dataframe"
      ]
    },
    {
      "cell_type": "code",
      "metadata": {
        "id": "WkSIichWq-mD",
        "colab_type": "code",
        "colab": {}
      },
      "source": [
        "def add_categoric_names(df):\n",
        "  home_list=np.asarray(df.HomeTeam)# Home team\n",
        "  away_list=np.asarray(df.AwayTeam) # Away team\n",
        "\n",
        "  # Put all the teams into one column so that the same team\n",
        "  # is given the same ID regardless of whether it is playing \n",
        "  # a home or away game\n",
        "  all_teams=np.append(home_list,away_list,axis=0)\n",
        "  # Assign each team an ID\n",
        "  all_teams_factorised=pd.factorize(all_teams) \n",
        "  all_teams_ids=all_teams_factorised[0]\n",
        "  cat_key=all_teams_factorised[1]\n",
        "  # Get the number of data points (not the length of all the names together)\n",
        "  number_dp= len(home_list)\n",
        "  # 1st half of list is home teams, 2nd is away\n",
        "  home_id_list=all_teams_ids[0:number_dp]\n",
        "  away_id_list=all_teams_ids[number_dp:(2*number_dp)]\n",
        "  # Now put team IDs into categoric form e.g [2,3,0] would\n",
        "  # become [[0 0 1 0],[0 0 0 1],[1 0 0 0]]\n",
        "  home_id_array=to_categorical(home_id_list)\n",
        "  away_id_array=to_categorical(away_id_list)\n",
        "  # Append the categoric arrays as columns at the end of the original array\n",
        "  both_ids_array=np.append(home_id_array,away_id_array,axis=1)\n",
        "  new_df_array=np.append(df,both_ids_array,axis=1)\n",
        "  # Turn the array back into a dataframe now that manipulation is finished\n",
        "  column_titles=[  \"Div\", \"MatchNo\", \"SeasonYear\", \"SeasonMatchNo\", \"MatchDate\",\n",
        "                 \"HomeTeam\",\"AwayTeam\",\"OddsHomeWin\",\"OddsDraw\",\"OddsAwayWin\",\n",
        "                 \"OddsWinDiff\",\"Attendance\",\"F_FTHomeGoals\",\"F_FTAwayGoals\",\n",
        "                 \"F_FTResult\",\"F_FTHomeWin\",\"F_FTDraw\", \"F_FTAwayWin\", \"F_HTHomeGoals\",\n",
        "                 \"F_HTAwayGoals\",\"F_HTResult\", \"F_HTHomeWin\",\"F_HTDraw\", \"F_HTAwayWin\"]\n",
        "  start=len(column_titles)\n",
        "  end=new_df_array.shape[1]\n",
        "  categoric_columns= list(map(str,range(start,end)))\n",
        "  column_titles=column_titles + categoric_columns\n",
        "  new_df=pd.DataFrame(data=new_df_array,columns=column_titles)\n",
        "  return new_df, cat_key"
      ],
      "execution_count": 0,
      "outputs": []
    },
    {
      "cell_type": "code",
      "metadata": {
        "id": "FtJHC0K2bWP4",
        "colab_type": "code",
        "colab": {}
      },
      "source": [
        "df, cat_key=add_categoric_names(raw_df)\n",
        "df_array=np.asarray(df)\n",
        "# Determine cause of random 0 in names of "
      ],
      "execution_count": 0,
      "outputs": []
    },
    {
      "cell_type": "markdown",
      "metadata": {
        "id": "HWEDbtpFdnUw",
        "colab_type": "text"
      },
      "source": [
        "View the data in a table"
      ]
    },
    {
      "cell_type": "code",
      "metadata": {
        "id": "0RsK8i3d96oD",
        "colab_type": "code",
        "outputId": "f65c377f-475d-4121-ba6d-7129550dd701",
        "colab": {
          "base_uri": "https://localhost:8080/"
        }
      },
      "source": [
        "df.head(3)"
      ],
      "execution_count": 0,
      "outputs": [
        {
          "output_type": "execute_result",
          "data": {
            "text/html": [
              "<div>\n",
              "<style scoped>\n",
              "    .dataframe tbody tr th:only-of-type {\n",
              "        vertical-align: middle;\n",
              "    }\n",
              "\n",
              "    .dataframe tbody tr th {\n",
              "        vertical-align: top;\n",
              "    }\n",
              "\n",
              "    .dataframe thead th {\n",
              "        text-align: right;\n",
              "    }\n",
              "</style>\n",
              "<table border=\"1\" class=\"dataframe\">\n",
              "  <thead>\n",
              "    <tr style=\"text-align: right;\">\n",
              "      <th></th>\n",
              "      <th>Div</th>\n",
              "      <th>MatchNo</th>\n",
              "      <th>SeasonYear</th>\n",
              "      <th>SeasonMatchNo</th>\n",
              "      <th>MatchDate</th>\n",
              "      <th>HomeTeam</th>\n",
              "      <th>AwayTeam</th>\n",
              "      <th>OddsHomeWin</th>\n",
              "      <th>OddsDraw</th>\n",
              "      <th>OddsAwayWin</th>\n",
              "      <th>OddsWinDiff</th>\n",
              "      <th>Attendance</th>\n",
              "      <th>F_FTHomeGoals</th>\n",
              "      <th>F_FTAwayGoals</th>\n",
              "      <th>F_FTResult</th>\n",
              "      <th>F_FTHomeWin</th>\n",
              "      <th>F_FTDraw</th>\n",
              "      <th>F_FTAwayWin</th>\n",
              "      <th>F_HTHomeGoals</th>\n",
              "      <th>F_HTAwayGoals</th>\n",
              "      <th>F_HTResult</th>\n",
              "      <th>F_HTHomeWin</th>\n",
              "      <th>F_HTDraw</th>\n",
              "      <th>F_HTAwayWin</th>\n",
              "      <th>24</th>\n",
              "      <th>25</th>\n",
              "      <th>26</th>\n",
              "      <th>27</th>\n",
              "      <th>28</th>\n",
              "      <th>29</th>\n",
              "      <th>30</th>\n",
              "      <th>31</th>\n",
              "      <th>32</th>\n",
              "      <th>33</th>\n",
              "      <th>34</th>\n",
              "      <th>35</th>\n",
              "      <th>36</th>\n",
              "      <th>37</th>\n",
              "      <th>38</th>\n",
              "      <th>39</th>\n",
              "      <th>...</th>\n",
              "      <th>204</th>\n",
              "      <th>205</th>\n",
              "      <th>206</th>\n",
              "      <th>207</th>\n",
              "      <th>208</th>\n",
              "      <th>209</th>\n",
              "      <th>210</th>\n",
              "      <th>211</th>\n",
              "      <th>212</th>\n",
              "      <th>213</th>\n",
              "      <th>214</th>\n",
              "      <th>215</th>\n",
              "      <th>216</th>\n",
              "      <th>217</th>\n",
              "      <th>218</th>\n",
              "      <th>219</th>\n",
              "      <th>220</th>\n",
              "      <th>221</th>\n",
              "      <th>222</th>\n",
              "      <th>223</th>\n",
              "      <th>224</th>\n",
              "      <th>225</th>\n",
              "      <th>226</th>\n",
              "      <th>227</th>\n",
              "      <th>228</th>\n",
              "      <th>229</th>\n",
              "      <th>230</th>\n",
              "      <th>231</th>\n",
              "      <th>232</th>\n",
              "      <th>233</th>\n",
              "      <th>234</th>\n",
              "      <th>235</th>\n",
              "      <th>236</th>\n",
              "      <th>237</th>\n",
              "      <th>238</th>\n",
              "      <th>239</th>\n",
              "      <th>240</th>\n",
              "      <th>241</th>\n",
              "      <th>242</th>\n",
              "      <th>243</th>\n",
              "    </tr>\n",
              "  </thead>\n",
              "  <tbody>\n",
              "    <tr>\n",
              "      <th>0</th>\n",
              "      <td>E0</td>\n",
              "      <td>20000001</td>\n",
              "      <td>2000</td>\n",
              "      <td>1</td>\n",
              "      <td>2000-08-19</td>\n",
              "      <td>Charlton</td>\n",
              "      <td>Man City</td>\n",
              "      <td>2.1</td>\n",
              "      <td>3.2</td>\n",
              "      <td>3.1</td>\n",
              "      <td>1</td>\n",
              "      <td>20043</td>\n",
              "      <td>4</td>\n",
              "      <td>0</td>\n",
              "      <td>H</td>\n",
              "      <td>1</td>\n",
              "      <td>0</td>\n",
              "      <td>0</td>\n",
              "      <td>2</td>\n",
              "      <td>0</td>\n",
              "      <td>H</td>\n",
              "      <td>1</td>\n",
              "      <td>0</td>\n",
              "      <td>0</td>\n",
              "      <td>1</td>\n",
              "      <td>0</td>\n",
              "      <td>0</td>\n",
              "      <td>0</td>\n",
              "      <td>0</td>\n",
              "      <td>0</td>\n",
              "      <td>0</td>\n",
              "      <td>0</td>\n",
              "      <td>0</td>\n",
              "      <td>0</td>\n",
              "      <td>0</td>\n",
              "      <td>0</td>\n",
              "      <td>0</td>\n",
              "      <td>0</td>\n",
              "      <td>0</td>\n",
              "      <td>0</td>\n",
              "      <td>...</td>\n",
              "      <td>0</td>\n",
              "      <td>0</td>\n",
              "      <td>0</td>\n",
              "      <td>0</td>\n",
              "      <td>0</td>\n",
              "      <td>0</td>\n",
              "      <td>0</td>\n",
              "      <td>0</td>\n",
              "      <td>0</td>\n",
              "      <td>0</td>\n",
              "      <td>0</td>\n",
              "      <td>0</td>\n",
              "      <td>0</td>\n",
              "      <td>0</td>\n",
              "      <td>0</td>\n",
              "      <td>0</td>\n",
              "      <td>0</td>\n",
              "      <td>0</td>\n",
              "      <td>0</td>\n",
              "      <td>0</td>\n",
              "      <td>0</td>\n",
              "      <td>0</td>\n",
              "      <td>0</td>\n",
              "      <td>0</td>\n",
              "      <td>0</td>\n",
              "      <td>0</td>\n",
              "      <td>0</td>\n",
              "      <td>0</td>\n",
              "      <td>0</td>\n",
              "      <td>0</td>\n",
              "      <td>0</td>\n",
              "      <td>0</td>\n",
              "      <td>0</td>\n",
              "      <td>0</td>\n",
              "      <td>0</td>\n",
              "      <td>0</td>\n",
              "      <td>0</td>\n",
              "      <td>0</td>\n",
              "      <td>0</td>\n",
              "      <td>0</td>\n",
              "    </tr>\n",
              "    <tr>\n",
              "      <th>1</th>\n",
              "      <td>E0</td>\n",
              "      <td>20000002</td>\n",
              "      <td>2000</td>\n",
              "      <td>2</td>\n",
              "      <td>2000-08-19</td>\n",
              "      <td>Chelsea</td>\n",
              "      <td>West Ham</td>\n",
              "      <td>1.44</td>\n",
              "      <td>3.6</td>\n",
              "      <td>6.5</td>\n",
              "      <td>5.06</td>\n",
              "      <td>34914</td>\n",
              "      <td>4</td>\n",
              "      <td>2</td>\n",
              "      <td>H</td>\n",
              "      <td>1</td>\n",
              "      <td>0</td>\n",
              "      <td>0</td>\n",
              "      <td>1</td>\n",
              "      <td>0</td>\n",
              "      <td>H</td>\n",
              "      <td>1</td>\n",
              "      <td>0</td>\n",
              "      <td>0</td>\n",
              "      <td>0</td>\n",
              "      <td>1</td>\n",
              "      <td>0</td>\n",
              "      <td>0</td>\n",
              "      <td>0</td>\n",
              "      <td>0</td>\n",
              "      <td>0</td>\n",
              "      <td>0</td>\n",
              "      <td>0</td>\n",
              "      <td>0</td>\n",
              "      <td>0</td>\n",
              "      <td>0</td>\n",
              "      <td>0</td>\n",
              "      <td>0</td>\n",
              "      <td>0</td>\n",
              "      <td>0</td>\n",
              "      <td>...</td>\n",
              "      <td>0</td>\n",
              "      <td>0</td>\n",
              "      <td>0</td>\n",
              "      <td>0</td>\n",
              "      <td>0</td>\n",
              "      <td>0</td>\n",
              "      <td>0</td>\n",
              "      <td>0</td>\n",
              "      <td>0</td>\n",
              "      <td>0</td>\n",
              "      <td>0</td>\n",
              "      <td>0</td>\n",
              "      <td>0</td>\n",
              "      <td>0</td>\n",
              "      <td>0</td>\n",
              "      <td>0</td>\n",
              "      <td>0</td>\n",
              "      <td>0</td>\n",
              "      <td>0</td>\n",
              "      <td>0</td>\n",
              "      <td>0</td>\n",
              "      <td>0</td>\n",
              "      <td>0</td>\n",
              "      <td>0</td>\n",
              "      <td>0</td>\n",
              "      <td>0</td>\n",
              "      <td>0</td>\n",
              "      <td>0</td>\n",
              "      <td>0</td>\n",
              "      <td>0</td>\n",
              "      <td>0</td>\n",
              "      <td>0</td>\n",
              "      <td>0</td>\n",
              "      <td>0</td>\n",
              "      <td>0</td>\n",
              "      <td>0</td>\n",
              "      <td>0</td>\n",
              "      <td>0</td>\n",
              "      <td>0</td>\n",
              "      <td>0</td>\n",
              "    </tr>\n",
              "    <tr>\n",
              "      <th>2</th>\n",
              "      <td>E0</td>\n",
              "      <td>20000003</td>\n",
              "      <td>2000</td>\n",
              "      <td>3</td>\n",
              "      <td>2000-08-19</td>\n",
              "      <td>Coventry</td>\n",
              "      <td>Middlesbrough</td>\n",
              "      <td>2.3</td>\n",
              "      <td>3.2</td>\n",
              "      <td>2.62</td>\n",
              "      <td>0.32</td>\n",
              "      <td>20624</td>\n",
              "      <td>1</td>\n",
              "      <td>3</td>\n",
              "      <td>A</td>\n",
              "      <td>0</td>\n",
              "      <td>0</td>\n",
              "      <td>1</td>\n",
              "      <td>1</td>\n",
              "      <td>1</td>\n",
              "      <td>D</td>\n",
              "      <td>0</td>\n",
              "      <td>1</td>\n",
              "      <td>0</td>\n",
              "      <td>0</td>\n",
              "      <td>0</td>\n",
              "      <td>1</td>\n",
              "      <td>0</td>\n",
              "      <td>0</td>\n",
              "      <td>0</td>\n",
              "      <td>0</td>\n",
              "      <td>0</td>\n",
              "      <td>0</td>\n",
              "      <td>0</td>\n",
              "      <td>0</td>\n",
              "      <td>0</td>\n",
              "      <td>0</td>\n",
              "      <td>0</td>\n",
              "      <td>0</td>\n",
              "      <td>0</td>\n",
              "      <td>...</td>\n",
              "      <td>0</td>\n",
              "      <td>0</td>\n",
              "      <td>0</td>\n",
              "      <td>0</td>\n",
              "      <td>0</td>\n",
              "      <td>0</td>\n",
              "      <td>0</td>\n",
              "      <td>0</td>\n",
              "      <td>0</td>\n",
              "      <td>0</td>\n",
              "      <td>0</td>\n",
              "      <td>0</td>\n",
              "      <td>0</td>\n",
              "      <td>0</td>\n",
              "      <td>0</td>\n",
              "      <td>0</td>\n",
              "      <td>0</td>\n",
              "      <td>0</td>\n",
              "      <td>0</td>\n",
              "      <td>0</td>\n",
              "      <td>0</td>\n",
              "      <td>0</td>\n",
              "      <td>0</td>\n",
              "      <td>0</td>\n",
              "      <td>0</td>\n",
              "      <td>0</td>\n",
              "      <td>0</td>\n",
              "      <td>0</td>\n",
              "      <td>0</td>\n",
              "      <td>0</td>\n",
              "      <td>0</td>\n",
              "      <td>0</td>\n",
              "      <td>0</td>\n",
              "      <td>0</td>\n",
              "      <td>0</td>\n",
              "      <td>0</td>\n",
              "      <td>0</td>\n",
              "      <td>0</td>\n",
              "      <td>0</td>\n",
              "      <td>0</td>\n",
              "    </tr>\n",
              "  </tbody>\n",
              "</table>\n",
              "<p>3 rows × 244 columns</p>\n",
              "</div>"
            ],
            "text/plain": [
              "  Div   MatchNo SeasonYear SeasonMatchNo   MatchDate  ... 239 240 241 242 243\n",
              "0  E0  20000001       2000             1  2000-08-19  ...   0   0   0   0   0\n",
              "1  E0  20000002       2000             2  2000-08-19  ...   0   0   0   0   0\n",
              "2  E0  20000003       2000             3  2000-08-19  ...   0   0   0   0   0\n",
              "\n",
              "[3 rows x 244 columns]"
            ]
          },
          "metadata": {
            "tags": []
          },
          "execution_count": 5
        }
      ]
    },
    {
      "cell_type": "markdown",
      "metadata": {
        "id": "wEd3RFPidpww",
        "colab_type": "text"
      },
      "source": [
        "Get the input data (categoric names and odds) in a single array"
      ]
    },
    {
      "cell_type": "code",
      "metadata": {
        "id": "G7g0o-Ew94HF",
        "colab_type": "code",
        "colab": {}
      },
      "source": [
        "odds=df_array[:,[7,8,9]]\n",
        "teams_categoric=df_array[:,list(range(24,243))]\n",
        "input_array=np.append(odds,teams_categoric, axis=1)\n",
        "results=df_array[:,[15,16,17]]"
      ],
      "execution_count": 0,
      "outputs": []
    },
    {
      "cell_type": "code",
      "metadata": {
        "id": "ttaZ3eIZLFL7",
        "colab_type": "code",
        "colab": {}
      },
      "source": [
        "# Get the number of inputs and the number of datapoints\n",
        "number_dp=input_array.shape[0]\n",
        "n_inputs= input_array.shape[1]"
      ],
      "execution_count": 0,
      "outputs": []
    },
    {
      "cell_type": "markdown",
      "metadata": {
        "id": "UBPjcAs2d46B",
        "colab_type": "text"
      },
      "source": [
        "Reshape to pass into the neural net"
      ]
    },
    {
      "cell_type": "code",
      "metadata": {
        "id": "_XwiotBrLFyL",
        "colab_type": "code",
        "colab": {}
      },
      "source": [
        "input_array=input_array.reshape(number_dp,1,1,n_inputs)\n",
        "results=results.reshape(number_dp,1,1,3)"
      ],
      "execution_count": 0,
      "outputs": []
    },
    {
      "cell_type": "markdown",
      "metadata": {
        "id": "ByhJxe4qL7EO",
        "colab_type": "text"
      },
      "source": [
        "# Seperate into Training and Testing Data"
      ]
    },
    {
      "cell_type": "markdown",
      "metadata": {
        "id": "KVnuw-rhPuer",
        "colab_type": "text"
      },
      "source": [
        "Usually approx 80% of the data is used as training data and 20% of the data is used as test data"
      ]
    },
    {
      "cell_type": "code",
      "metadata": {
        "id": "-5rFPx4hL5OX",
        "colab_type": "code",
        "colab": {}
      },
      "source": [
        "p=0.8\n",
        "last_train= math.ceil(p*number_dp)\n",
        "# Training data\n",
        "input_train=input_array[0:last_train,:]\n",
        "results_train=results[0:last_train,:]\n",
        "# Test data\n",
        "input_test=input_array[(last_train+1):number_dp,:]\n",
        "results_test=results[(last_train+1):number_dp,:]"
      ],
      "execution_count": 0,
      "outputs": []
    },
    {
      "cell_type": "code",
      "metadata": {
        "id": "N1JQdlA4dw_V",
        "colab_type": "code",
        "outputId": "817bdf45-6424-4b4a-f639-0e091f1582b7",
        "colab": {
          "base_uri": "https://localhost:8080/",
          "height": 51
        }
      },
      "source": [
        "print(input_test.shape)\n",
        "print(results_test.shape)"
      ],
      "execution_count": 0,
      "outputs": [
        {
          "output_type": "stream",
          "text": [
            "(7558, 1, 1, 222)\n",
            "(7558, 1, 1, 3)\n"
          ],
          "name": "stdout"
        }
      ]
    },
    {
      "cell_type": "markdown",
      "metadata": {
        "id": "yQ0TAiUC3e_K",
        "colab_type": "text"
      },
      "source": [
        "Print input shape"
      ]
    },
    {
      "cell_type": "markdown",
      "metadata": {
        "id": "C_TU-XvtMcee",
        "colab_type": "text"
      },
      "source": [
        "# Define Model Architecture"
      ]
    },
    {
      "cell_type": "code",
      "metadata": {
        "id": "SEzeYidCMhU_",
        "colab_type": "code",
        "colab": {}
      },
      "source": [
        "model=Sequential()\n",
        "model.add(Dense(9,input_shape=(1,1,n_inputs), activation='relu')) # Adds a densely connected NN layer\n",
        "model.add(Dense(3,activation='relu')) \n",
        "model.add(Dense(3,activation='softmax'))"
      ],
      "execution_count": 0,
      "outputs": []
    },
    {
      "cell_type": "markdown",
      "metadata": {
        "id": "le9HQ0CUN3Mt",
        "colab_type": "text"
      },
      "source": [
        "# Compile Model"
      ]
    },
    {
      "cell_type": "markdown",
      "metadata": {
        "id": "bktT906gOno0",
        "colab_type": "text"
      },
      "source": [
        "Categorial crossentropy loss is a loss algorithm for when there are multiple categories to sort each data point into, in this case  home win, draw or away win. The optimizer is a feature that makes the model work better, adam is the default."
      ]
    },
    {
      "cell_type": "code",
      "metadata": {
        "id": "MZXC2fauN-1O",
        "colab_type": "code",
        "colab": {}
      },
      "source": [
        "#opt = SGD(lr=0.000001,momentum=0.004)\n",
        "model.compile(loss='categorical_crossentropy',optimizer='adagrad',metrics=['accuracy']) \n",
        "# Want to know the accuracy of the model so specify it as a metric\n",
        "plot_model(model,to_file='model.png')\n",
        "\n"
      ],
      "execution_count": 0,
      "outputs": []
    },
    {
      "cell_type": "markdown",
      "metadata": {
        "id": "K1wE64qJPmZy",
        "colab_type": "text"
      },
      "source": [
        "# Fit Model from Training Data\n"
      ]
    },
    {
      "cell_type": "markdown",
      "metadata": {
        "id": "csQHyf4yRb9b",
        "colab_type": "text"
      },
      "source": [
        "* The number of epochs are the number of phases of training\n",
        "* The shuffle parameter determines whether the training data is shuffled between epochs\n",
        "* Batch size is the number of data points between updates to the weights\n",
        "* **Greater number of epochs** can increase accuracy\n",
        "\n"
      ]
    },
    {
      "cell_type": "code",
      "metadata": {
        "id": "9HayREmuaTTB",
        "colab_type": "code",
        "outputId": "3776ad1e-7858-4bfa-80b5-761cfb83b854",
        "colab": {
          "base_uri": "https://localhost:8080/",
          "height": 1000
        }
      },
      "source": [
        "\n",
        "\n",
        "model.fit(input_train,results_train,batch_size=1000,epochs=100,verbose=1,shuffle=1)"
      ],
      "execution_count": 39,
      "outputs": [
        {
          "output_type": "stream",
          "text": [
            "Epoch 1/100\n",
            "30237/30237 [==============================] - 1s 33us/step - loss: 1.0244 - acc: 0.4821\n",
            "Epoch 2/100\n",
            "30237/30237 [==============================] - 1s 33us/step - loss: 1.0243 - acc: 0.4820\n",
            "Epoch 3/100\n",
            "30237/30237 [==============================] - 1s 33us/step - loss: 1.0241 - acc: 0.4822\n",
            "Epoch 4/100\n",
            "30237/30237 [==============================] - 1s 34us/step - loss: 1.0240 - acc: 0.4825\n",
            "Epoch 5/100\n",
            "30237/30237 [==============================] - 1s 33us/step - loss: 1.0238 - acc: 0.4824\n",
            "Epoch 6/100\n",
            "30237/30237 [==============================] - 1s 33us/step - loss: 1.0237 - acc: 0.4826\n",
            "Epoch 7/100\n",
            "30237/30237 [==============================] - 1s 33us/step - loss: 1.0236 - acc: 0.4825\n",
            "Epoch 8/100\n",
            "30237/30237 [==============================] - 1s 33us/step - loss: 1.0234 - acc: 0.4828\n",
            "Epoch 9/100\n",
            "30237/30237 [==============================] - 1s 33us/step - loss: 1.0233 - acc: 0.4829\n",
            "Epoch 10/100\n",
            "30237/30237 [==============================] - 1s 33us/step - loss: 1.0231 - acc: 0.4829\n",
            "Epoch 11/100\n",
            "30237/30237 [==============================] - 1s 33us/step - loss: 1.0231 - acc: 0.4830\n",
            "Epoch 12/100\n",
            "30237/30237 [==============================] - 1s 33us/step - loss: 1.0229 - acc: 0.4834\n",
            "Epoch 13/100\n",
            "30237/30237 [==============================] - 1s 33us/step - loss: 1.0228 - acc: 0.4833\n",
            "Epoch 14/100\n",
            "30237/30237 [==============================] - 1s 33us/step - loss: 1.0226 - acc: 0.4837\n",
            "Epoch 15/100\n",
            "30237/30237 [==============================] - 1s 33us/step - loss: 1.0225 - acc: 0.4839\n",
            "Epoch 16/100\n",
            "30237/30237 [==============================] - 1s 33us/step - loss: 1.0224 - acc: 0.4839\n",
            "Epoch 17/100\n",
            "30237/30237 [==============================] - 1s 34us/step - loss: 1.0223 - acc: 0.4838\n",
            "Epoch 18/100\n",
            "30237/30237 [==============================] - 1s 33us/step - loss: 1.0221 - acc: 0.4835\n",
            "Epoch 19/100\n",
            "30237/30237 [==============================] - 1s 33us/step - loss: 1.0220 - acc: 0.4840\n",
            "Epoch 20/100\n",
            "30237/30237 [==============================] - 1s 33us/step - loss: 1.0219 - acc: 0.4837\n",
            "Epoch 21/100\n",
            "30237/30237 [==============================] - 1s 34us/step - loss: 1.0218 - acc: 0.4841\n",
            "Epoch 22/100\n",
            "30237/30237 [==============================] - 1s 33us/step - loss: 1.0217 - acc: 0.4843\n",
            "Epoch 23/100\n",
            "30237/30237 [==============================] - 1s 34us/step - loss: 1.0216 - acc: 0.4840\n",
            "Epoch 24/100\n",
            "30237/30237 [==============================] - 1s 33us/step - loss: 1.0215 - acc: 0.4840\n",
            "Epoch 25/100\n",
            "30237/30237 [==============================] - 1s 33us/step - loss: 1.0213 - acc: 0.4841\n",
            "Epoch 26/100\n",
            "30237/30237 [==============================] - 1s 33us/step - loss: 1.0212 - acc: 0.4842\n",
            "Epoch 27/100\n",
            "30237/30237 [==============================] - 1s 34us/step - loss: 1.0211 - acc: 0.4841\n",
            "Epoch 28/100\n",
            "30237/30237 [==============================] - 1s 33us/step - loss: 1.0210 - acc: 0.4836\n",
            "Epoch 29/100\n",
            "30237/30237 [==============================] - 1s 33us/step - loss: 1.0209 - acc: 0.4844\n",
            "Epoch 30/100\n",
            "30237/30237 [==============================] - 1s 33us/step - loss: 1.0208 - acc: 0.4841\n",
            "Epoch 31/100\n",
            "30237/30237 [==============================] - 1s 33us/step - loss: 1.0207 - acc: 0.4839\n",
            "Epoch 32/100\n",
            "30237/30237 [==============================] - 1s 33us/step - loss: 1.0206 - acc: 0.4843\n",
            "Epoch 33/100\n",
            "30237/30237 [==============================] - 1s 34us/step - loss: 1.0205 - acc: 0.4838\n",
            "Epoch 34/100\n",
            "30237/30237 [==============================] - 1s 33us/step - loss: 1.0204 - acc: 0.4839\n",
            "Epoch 35/100\n",
            "30237/30237 [==============================] - 1s 33us/step - loss: 1.0203 - acc: 0.4843\n",
            "Epoch 36/100\n",
            "30237/30237 [==============================] - 1s 33us/step - loss: 1.0202 - acc: 0.4846\n",
            "Epoch 37/100\n",
            "30237/30237 [==============================] - 1s 33us/step - loss: 1.0201 - acc: 0.4847\n",
            "Epoch 38/100\n",
            "30237/30237 [==============================] - 1s 34us/step - loss: 1.0200 - acc: 0.4842\n",
            "Epoch 39/100\n",
            "30237/30237 [==============================] - 1s 33us/step - loss: 1.0199 - acc: 0.4841\n",
            "Epoch 40/100\n",
            "30237/30237 [==============================] - 1s 33us/step - loss: 1.0198 - acc: 0.4845\n",
            "Epoch 41/100\n",
            "30237/30237 [==============================] - 1s 33us/step - loss: 1.0198 - acc: 0.4845\n",
            "Epoch 42/100\n",
            "30237/30237 [==============================] - 1s 33us/step - loss: 1.0197 - acc: 0.4848\n",
            "Epoch 43/100\n",
            "30237/30237 [==============================] - 1s 33us/step - loss: 1.0196 - acc: 0.4840\n",
            "Epoch 44/100\n",
            "30237/30237 [==============================] - 1s 33us/step - loss: 1.0195 - acc: 0.4847\n",
            "Epoch 45/100\n",
            "30237/30237 [==============================] - 1s 33us/step - loss: 1.0194 - acc: 0.4849\n",
            "Epoch 46/100\n",
            "30237/30237 [==============================] - 1s 33us/step - loss: 1.0193 - acc: 0.4847\n",
            "Epoch 47/100\n",
            "30237/30237 [==============================] - 1s 33us/step - loss: 1.0192 - acc: 0.4846\n",
            "Epoch 48/100\n",
            "30237/30237 [==============================] - 1s 33us/step - loss: 1.0191 - acc: 0.4847\n",
            "Epoch 49/100\n",
            "30237/30237 [==============================] - 1s 33us/step - loss: 1.0191 - acc: 0.4849\n",
            "Epoch 50/100\n",
            "30237/30237 [==============================] - 1s 32us/step - loss: 1.0190 - acc: 0.4855\n",
            "Epoch 51/100\n",
            "30237/30237 [==============================] - 1s 33us/step - loss: 1.0189 - acc: 0.4848\n",
            "Epoch 52/100\n",
            "30237/30237 [==============================] - 1s 33us/step - loss: 1.0189 - acc: 0.4847\n",
            "Epoch 53/100\n",
            "30237/30237 [==============================] - 1s 33us/step - loss: 1.0188 - acc: 0.4854\n",
            "Epoch 54/100\n",
            "30237/30237 [==============================] - 1s 33us/step - loss: 1.0187 - acc: 0.4857\n",
            "Epoch 55/100\n",
            "30237/30237 [==============================] - 1s 32us/step - loss: 1.0186 - acc: 0.4852\n",
            "Epoch 56/100\n",
            "30237/30237 [==============================] - 1s 33us/step - loss: 1.0185 - acc: 0.4858\n",
            "Epoch 57/100\n",
            "30237/30237 [==============================] - 1s 33us/step - loss: 1.0185 - acc: 0.4854\n",
            "Epoch 58/100\n",
            "30237/30237 [==============================] - 1s 33us/step - loss: 1.0184 - acc: 0.4860\n",
            "Epoch 59/100\n",
            "30237/30237 [==============================] - 1s 33us/step - loss: 1.0183 - acc: 0.4854\n",
            "Epoch 60/100\n",
            "30237/30237 [==============================] - 1s 33us/step - loss: 1.0182 - acc: 0.4856\n",
            "Epoch 61/100\n",
            "30237/30237 [==============================] - 1s 33us/step - loss: 1.0182 - acc: 0.4862\n",
            "Epoch 62/100\n",
            "30237/30237 [==============================] - 1s 33us/step - loss: 1.0181 - acc: 0.4861\n",
            "Epoch 63/100\n",
            "30237/30237 [==============================] - 1s 33us/step - loss: 1.0180 - acc: 0.4858\n",
            "Epoch 64/100\n",
            "30237/30237 [==============================] - 1s 33us/step - loss: 1.0179 - acc: 0.4858\n",
            "Epoch 65/100\n",
            "30237/30237 [==============================] - 1s 33us/step - loss: 1.0179 - acc: 0.4863\n",
            "Epoch 66/100\n",
            "30237/30237 [==============================] - 1s 33us/step - loss: 1.0177 - acc: 0.4863\n",
            "Epoch 67/100\n",
            "30237/30237 [==============================] - 1s 33us/step - loss: 1.0178 - acc: 0.4860\n",
            "Epoch 68/100\n",
            "30237/30237 [==============================] - 1s 33us/step - loss: 1.0177 - acc: 0.4861\n",
            "Epoch 69/100\n",
            "30237/30237 [==============================] - 1s 33us/step - loss: 1.0176 - acc: 0.4859\n",
            "Epoch 70/100\n",
            "30237/30237 [==============================] - 1s 33us/step - loss: 1.0176 - acc: 0.4865\n",
            "Epoch 71/100\n",
            "30237/30237 [==============================] - 1s 34us/step - loss: 1.0175 - acc: 0.4859\n",
            "Epoch 72/100\n",
            "30237/30237 [==============================] - 1s 33us/step - loss: 1.0174 - acc: 0.4860\n",
            "Epoch 73/100\n",
            "30237/30237 [==============================] - 1s 33us/step - loss: 1.0174 - acc: 0.4866\n",
            "Epoch 74/100\n",
            "30237/30237 [==============================] - 1s 33us/step - loss: 1.0173 - acc: 0.4864\n",
            "Epoch 75/100\n",
            "30237/30237 [==============================] - 1s 33us/step - loss: 1.0172 - acc: 0.4870\n",
            "Epoch 76/100\n",
            "30237/30237 [==============================] - 1s 33us/step - loss: 1.0172 - acc: 0.4860\n",
            "Epoch 77/100\n",
            "30237/30237 [==============================] - 1s 33us/step - loss: 1.0171 - acc: 0.4869\n",
            "Epoch 78/100\n",
            "30237/30237 [==============================] - 1s 33us/step - loss: 1.0171 - acc: 0.4869\n",
            "Epoch 79/100\n",
            "30237/30237 [==============================] - 1s 33us/step - loss: 1.0170 - acc: 0.4873\n",
            "Epoch 80/100\n",
            "30237/30237 [==============================] - 1s 33us/step - loss: 1.0169 - acc: 0.4866\n",
            "Epoch 81/100\n",
            "30237/30237 [==============================] - 1s 33us/step - loss: 1.0169 - acc: 0.4869\n",
            "Epoch 82/100\n",
            "30237/30237 [==============================] - 1s 34us/step - loss: 1.0168 - acc: 0.4867\n",
            "Epoch 83/100\n",
            "30237/30237 [==============================] - 1s 33us/step - loss: 1.0167 - acc: 0.4865\n",
            "Epoch 84/100\n",
            "30237/30237 [==============================] - 1s 33us/step - loss: 1.0167 - acc: 0.4862\n",
            "Epoch 85/100\n",
            "30237/30237 [==============================] - 1s 33us/step - loss: 1.0166 - acc: 0.4867\n",
            "Epoch 86/100\n",
            "30237/30237 [==============================] - 1s 33us/step - loss: 1.0166 - acc: 0.4866\n",
            "Epoch 87/100\n",
            "30237/30237 [==============================] - 1s 33us/step - loss: 1.0165 - acc: 0.4866\n",
            "Epoch 88/100\n",
            "30237/30237 [==============================] - 1s 34us/step - loss: 1.0164 - acc: 0.4869\n",
            "Epoch 89/100\n",
            "30237/30237 [==============================] - 1s 34us/step - loss: 1.0164 - acc: 0.4857\n",
            "Epoch 90/100\n",
            "30237/30237 [==============================] - 1s 34us/step - loss: 1.0164 - acc: 0.4868\n",
            "Epoch 91/100\n",
            "30237/30237 [==============================] - 1s 34us/step - loss: 1.0163 - acc: 0.4867\n",
            "Epoch 92/100\n",
            "30237/30237 [==============================] - 1s 33us/step - loss: 1.0162 - acc: 0.4860\n",
            "Epoch 93/100\n",
            "30237/30237 [==============================] - 1s 34us/step - loss: 1.0162 - acc: 0.4866\n",
            "Epoch 94/100\n",
            "30237/30237 [==============================] - 1s 34us/step - loss: 1.0161 - acc: 0.4868\n",
            "Epoch 95/100\n",
            "30237/30237 [==============================] - 1s 33us/step - loss: 1.0161 - acc: 0.4876\n",
            "Epoch 96/100\n",
            "30237/30237 [==============================] - 1s 33us/step - loss: 1.0160 - acc: 0.4870\n",
            "Epoch 97/100\n",
            "30237/30237 [==============================] - 1s 33us/step - loss: 1.0160 - acc: 0.4869\n",
            "Epoch 98/100\n",
            "30237/30237 [==============================] - 1s 33us/step - loss: 1.0159 - acc: 0.4874\n",
            "Epoch 99/100\n",
            "30237/30237 [==============================] - 1s 34us/step - loss: 1.0158 - acc: 0.4875\n",
            "Epoch 100/100\n",
            "30237/30237 [==============================] - 1s 33us/step - loss: 1.0158 - acc: 0.4875\n"
          ],
          "name": "stdout"
        },
        {
          "output_type": "execute_result",
          "data": {
            "text/plain": [
              "<keras.callbacks.History at 0x7f7db9ca32e8>"
            ]
          },
          "metadata": {
            "tags": []
          },
          "execution_count": 39
        }
      ]
    },
    {
      "cell_type": "markdown",
      "metadata": {
        "id": "hr573gZNPn36",
        "colab_type": "text"
      },
      "source": [
        "# Evaluate Model"
      ]
    },
    {
      "cell_type": "code",
      "metadata": {
        "id": "yBkbMC9R-72_",
        "colab_type": "code",
        "outputId": "05c0b02e-e1a7-4055-eef6-8fe13e88c1cc",
        "colab": {
          "base_uri": "https://localhost:8080/",
          "height": 68
        }
      },
      "source": [
        "[loss_value,accuracy]=model.evaluate(input_test,results_test,verbose=1)\n",
        "print(\"The loss value for the model is \"+ str(loss_value))\n",
        "print(\"The accuracy value for the model is \"+ \"{:.3f}\".format(accuracy))\n"
      ],
      "execution_count": 40,
      "outputs": [
        {
          "output_type": "stream",
          "text": [
            "7558/7558 [==============================] - 0s 50us/step\n",
            "The loss value for the model is 1.0347239428898998\n",
            "The accuracy value for the model is 0.478\n"
          ],
          "name": "stdout"
        }
      ]
    },
    {
      "cell_type": "markdown",
      "metadata": {
        "id": "ixKwt9tqcUti",
        "colab_type": "text"
      },
      "source": [
        "# Make Prediction"
      ]
    },
    {
      "cell_type": "code",
      "metadata": {
        "id": "xXnLgeq8okxn",
        "colab_type": "code",
        "outputId": "20957459-9b56-46d9-ba1c-5a8c669c0442",
        "colab": {
          "base_uri": "https://localhost:8080/",
          "height": 1000
        }
      },
      "source": [
        "counter=0\n",
        "for team in cat_key:\n",
        "  print(str(counter)+') ' + team)\n",
        "  counter+=1\n",
        "home_id=int(input('Enter the home team ID: '))\n",
        "away_id=int(input('Enter the away team ID: '))\n",
        "ids=list(range(len(cat_key)))\n",
        "ids=to_categorical(ids)\n",
        "home_team=ids[home_id]\n",
        "away_team= ids[away_id]\n",
        "input_array=np.asarray([1.2,3,4]) #Odds that favour home team\n",
        "input_array=np.append(input_array,home_team)\n",
        "input_array=np.append(input_array,away_team)\n",
        "print(input_array.shape)\n",
        "input_array=input_array.reshape(1,1,1,n_inputs)\n",
        "prediction=model.predict(input_array)\n",
        "print(prediction)"
      ],
      "execution_count": 38,
      "outputs": [
        {
          "output_type": "stream",
          "text": [
            "0) Charlton\n",
            "1) Chelsea\n",
            "2) Coventry\n",
            "3) Derby\n",
            "4) Leeds\n",
            "5) Leicester\n",
            "6) Liverpool\n",
            "7) Sunderland\n",
            "8) Tottenham\n",
            "9) Man United\n",
            "10) Arsenal\n",
            "11) Bradford\n",
            "12) Ipswich\n",
            "13) Middlesbrough\n",
            "14) Everton\n",
            "15) Man City\n",
            "16) Newcastle\n",
            "17) Southampton\n",
            "18) West Ham\n",
            "19) Aston Villa\n",
            "20) Barnsley\n",
            "21) Blackburn\n",
            "22) Bolton\n",
            "23) Fulham\n",
            "24) Gillingham\n",
            "25) Grimsby\n",
            "26) Huddersfield\n",
            "27) Nott'm Forest\n",
            "28) QPR\n",
            "29) Sheffield United\n",
            "30) Wimbledon\n",
            "31) Wolves\n",
            "32) Birmingham\n",
            "33) Burnley\n",
            "34) Crewe\n",
            "35) Norwich\n",
            "36) Portsmouth\n",
            "37) Preston\n",
            "38) Sheffield Weds\n",
            "39) Stockport\n",
            "40) Tranmere\n",
            "41) Watford\n",
            "42) West Brom\n",
            "43) Crystal Palace\n",
            "44) Bristol Rvs\n",
            "45) Cambridge\n",
            "46) Luton\n",
            "47) Millwall\n",
            "48) Northampton\n",
            "49) Oldham\n",
            "50) Oxford\n",
            "51) Rotherham\n",
            "52) Stoke\n",
            "53) Swansea\n",
            "54) Swindon\n",
            "55) Wrexham\n",
            "56) Colchester\n",
            "57) Bournemouth\n",
            "58) Brentford\n",
            "59) Bristol City\n",
            "60) Bury\n",
            "61) Notts County\n",
            "62) Port Vale\n",
            "63) Reading\n",
            "64) Walsall\n",
            "65) Wigan\n",
            "66) Wycombe\n",
            "67) Peterboro\n",
            "68) Barnet\n",
            "69) Blackpool\n",
            "70) Carlisle\n",
            "71) Cheltenham\n",
            "72) Chesterfield\n",
            "73) Exeter\n",
            "74) Kidderminster\n",
            "75) Lincoln\n",
            "76) Macclesfield\n",
            "77) Plymouth\n",
            "78) Rochdale\n",
            "79) Southend\n",
            "80) Brighton\n",
            "81) Cardiff\n",
            "82) Darlington\n",
            "83) Halifax\n",
            "84) Hartlepool\n",
            "85) Hull\n",
            "86) Leyton Orient\n",
            "87) Scunthorpe\n",
            "88) Shrewsbury\n",
            "89) Torquay\n",
            "90) York\n",
            "91) Mansfield\n",
            "92) Rushden & D\n",
            "93) Boston\n",
            "94) Doncaster\n",
            "95) Yeovil\n",
            "96) Milton Keynes Dons\n",
            "97) Chester\n",
            "98) Accrington\n",
            "99) Hereford\n",
            "100) Morecambe\n",
            "101) Dag and Red\n",
            "102) Aldershot\n",
            "103) Burton\n",
            "104) Stevenage\n",
            "105) AFC Wimbledon\n",
            "106) Crawley Town\n",
            "107) Fleetwood Town\n",
            "108) Newport County\n",
            "109) Forest Green\n"
          ],
          "name": "stdout"
        },
        {
          "output_type": "error",
          "ename": "KeyboardInterrupt",
          "evalue": "ignored",
          "traceback": [
            "\u001b[0;31m---------------------------------------------------------------------------\u001b[0m",
            "\u001b[0;31mKeyboardInterrupt\u001b[0m                         Traceback (most recent call last)",
            "\u001b[0;32m/usr/local/lib/python3.6/dist-packages/ipykernel/kernelbase.py\u001b[0m in \u001b[0;36m_input_request\u001b[0;34m(self, prompt, ident, parent, password)\u001b[0m\n\u001b[1;32m    729\u001b[0m             \u001b[0;32mtry\u001b[0m\u001b[0;34m:\u001b[0m\u001b[0;34m\u001b[0m\u001b[0;34m\u001b[0m\u001b[0m\n\u001b[0;32m--> 730\u001b[0;31m                 \u001b[0mident\u001b[0m\u001b[0;34m,\u001b[0m \u001b[0mreply\u001b[0m \u001b[0;34m=\u001b[0m \u001b[0mself\u001b[0m\u001b[0;34m.\u001b[0m\u001b[0msession\u001b[0m\u001b[0;34m.\u001b[0m\u001b[0mrecv\u001b[0m\u001b[0;34m(\u001b[0m\u001b[0mself\u001b[0m\u001b[0;34m.\u001b[0m\u001b[0mstdin_socket\u001b[0m\u001b[0;34m,\u001b[0m \u001b[0;36m0\u001b[0m\u001b[0;34m)\u001b[0m\u001b[0;34m\u001b[0m\u001b[0;34m\u001b[0m\u001b[0m\n\u001b[0m\u001b[1;32m    731\u001b[0m             \u001b[0;32mexcept\u001b[0m \u001b[0mException\u001b[0m\u001b[0;34m:\u001b[0m\u001b[0;34m\u001b[0m\u001b[0;34m\u001b[0m\u001b[0m\n",
            "\u001b[0;32m/usr/local/lib/python3.6/dist-packages/jupyter_client/session.py\u001b[0m in \u001b[0;36mrecv\u001b[0;34m(self, socket, mode, content, copy)\u001b[0m\n\u001b[1;32m    802\u001b[0m         \u001b[0;32mtry\u001b[0m\u001b[0;34m:\u001b[0m\u001b[0;34m\u001b[0m\u001b[0;34m\u001b[0m\u001b[0m\n\u001b[0;32m--> 803\u001b[0;31m             \u001b[0mmsg_list\u001b[0m \u001b[0;34m=\u001b[0m \u001b[0msocket\u001b[0m\u001b[0;34m.\u001b[0m\u001b[0mrecv_multipart\u001b[0m\u001b[0;34m(\u001b[0m\u001b[0mmode\u001b[0m\u001b[0;34m,\u001b[0m \u001b[0mcopy\u001b[0m\u001b[0;34m=\u001b[0m\u001b[0mcopy\u001b[0m\u001b[0;34m)\u001b[0m\u001b[0;34m\u001b[0m\u001b[0;34m\u001b[0m\u001b[0m\n\u001b[0m\u001b[1;32m    804\u001b[0m         \u001b[0;32mexcept\u001b[0m \u001b[0mzmq\u001b[0m\u001b[0;34m.\u001b[0m\u001b[0mZMQError\u001b[0m \u001b[0;32mas\u001b[0m \u001b[0me\u001b[0m\u001b[0;34m:\u001b[0m\u001b[0;34m\u001b[0m\u001b[0;34m\u001b[0m\u001b[0m\n",
            "\u001b[0;32m/usr/local/lib/python3.6/dist-packages/zmq/sugar/socket.py\u001b[0m in \u001b[0;36mrecv_multipart\u001b[0;34m(self, flags, copy, track)\u001b[0m\n\u001b[1;32m    465\u001b[0m         \"\"\"\n\u001b[0;32m--> 466\u001b[0;31m         \u001b[0mparts\u001b[0m \u001b[0;34m=\u001b[0m \u001b[0;34m[\u001b[0m\u001b[0mself\u001b[0m\u001b[0;34m.\u001b[0m\u001b[0mrecv\u001b[0m\u001b[0;34m(\u001b[0m\u001b[0mflags\u001b[0m\u001b[0;34m,\u001b[0m \u001b[0mcopy\u001b[0m\u001b[0;34m=\u001b[0m\u001b[0mcopy\u001b[0m\u001b[0;34m,\u001b[0m \u001b[0mtrack\u001b[0m\u001b[0;34m=\u001b[0m\u001b[0mtrack\u001b[0m\u001b[0;34m)\u001b[0m\u001b[0;34m]\u001b[0m\u001b[0;34m\u001b[0m\u001b[0;34m\u001b[0m\u001b[0m\n\u001b[0m\u001b[1;32m    467\u001b[0m         \u001b[0;31m# have first part already, only loop while more to receive\u001b[0m\u001b[0;34m\u001b[0m\u001b[0;34m\u001b[0m\u001b[0;34m\u001b[0m\u001b[0m\n",
            "\u001b[0;32mzmq/backend/cython/socket.pyx\u001b[0m in \u001b[0;36mzmq.backend.cython.socket.Socket.recv\u001b[0;34m()\u001b[0m\n",
            "\u001b[0;32mzmq/backend/cython/socket.pyx\u001b[0m in \u001b[0;36mzmq.backend.cython.socket.Socket.recv\u001b[0;34m()\u001b[0m\n",
            "\u001b[0;32mzmq/backend/cython/socket.pyx\u001b[0m in \u001b[0;36mzmq.backend.cython.socket._recv_copy\u001b[0;34m()\u001b[0m\n",
            "\u001b[0;32m/usr/local/lib/python3.6/dist-packages/zmq/backend/cython/checkrc.pxd\u001b[0m in \u001b[0;36mzmq.backend.cython.checkrc._check_rc\u001b[0;34m()\u001b[0m\n",
            "\u001b[0;31mKeyboardInterrupt\u001b[0m: ",
            "\nDuring handling of the above exception, another exception occurred:\n",
            "\u001b[0;31mKeyboardInterrupt\u001b[0m                         Traceback (most recent call last)",
            "\u001b[0;32m<ipython-input-38-4d2e348893cc>\u001b[0m in \u001b[0;36m<module>\u001b[0;34m()\u001b[0m\n\u001b[1;32m      3\u001b[0m   \u001b[0mprint\u001b[0m\u001b[0;34m(\u001b[0m\u001b[0mstr\u001b[0m\u001b[0;34m(\u001b[0m\u001b[0mcounter\u001b[0m\u001b[0;34m)\u001b[0m\u001b[0;34m+\u001b[0m\u001b[0;34m') '\u001b[0m \u001b[0;34m+\u001b[0m \u001b[0mteam\u001b[0m\u001b[0;34m)\u001b[0m\u001b[0;34m\u001b[0m\u001b[0;34m\u001b[0m\u001b[0m\n\u001b[1;32m      4\u001b[0m   \u001b[0mcounter\u001b[0m\u001b[0;34m+=\u001b[0m\u001b[0;36m1\u001b[0m\u001b[0;34m\u001b[0m\u001b[0;34m\u001b[0m\u001b[0m\n\u001b[0;32m----> 5\u001b[0;31m \u001b[0mhome_id\u001b[0m\u001b[0;34m=\u001b[0m\u001b[0mint\u001b[0m\u001b[0;34m(\u001b[0m\u001b[0minput\u001b[0m\u001b[0;34m(\u001b[0m\u001b[0;34m'Enter the home team ID: '\u001b[0m\u001b[0;34m)\u001b[0m\u001b[0;34m)\u001b[0m\u001b[0;34m\u001b[0m\u001b[0;34m\u001b[0m\u001b[0m\n\u001b[0m\u001b[1;32m      6\u001b[0m \u001b[0maway_id\u001b[0m\u001b[0;34m=\u001b[0m\u001b[0mint\u001b[0m\u001b[0;34m(\u001b[0m\u001b[0minput\u001b[0m\u001b[0;34m(\u001b[0m\u001b[0;34m'Enter the away team ID: '\u001b[0m\u001b[0;34m)\u001b[0m\u001b[0;34m)\u001b[0m\u001b[0;34m\u001b[0m\u001b[0;34m\u001b[0m\u001b[0m\n\u001b[1;32m      7\u001b[0m \u001b[0mids\u001b[0m\u001b[0;34m=\u001b[0m\u001b[0mlist\u001b[0m\u001b[0;34m(\u001b[0m\u001b[0mrange\u001b[0m\u001b[0;34m(\u001b[0m\u001b[0mlen\u001b[0m\u001b[0;34m(\u001b[0m\u001b[0mcat_key\u001b[0m\u001b[0;34m)\u001b[0m\u001b[0;34m)\u001b[0m\u001b[0;34m)\u001b[0m\u001b[0;34m\u001b[0m\u001b[0;34m\u001b[0m\u001b[0m\n",
            "\u001b[0;32m/usr/local/lib/python3.6/dist-packages/ipykernel/kernelbase.py\u001b[0m in \u001b[0;36mraw_input\u001b[0;34m(self, prompt)\u001b[0m\n\u001b[1;32m    703\u001b[0m             \u001b[0mself\u001b[0m\u001b[0;34m.\u001b[0m\u001b[0m_parent_ident\u001b[0m\u001b[0;34m,\u001b[0m\u001b[0;34m\u001b[0m\u001b[0;34m\u001b[0m\u001b[0m\n\u001b[1;32m    704\u001b[0m             \u001b[0mself\u001b[0m\u001b[0;34m.\u001b[0m\u001b[0m_parent_header\u001b[0m\u001b[0;34m,\u001b[0m\u001b[0;34m\u001b[0m\u001b[0;34m\u001b[0m\u001b[0m\n\u001b[0;32m--> 705\u001b[0;31m             \u001b[0mpassword\u001b[0m\u001b[0;34m=\u001b[0m\u001b[0;32mFalse\u001b[0m\u001b[0;34m,\u001b[0m\u001b[0;34m\u001b[0m\u001b[0;34m\u001b[0m\u001b[0m\n\u001b[0m\u001b[1;32m    706\u001b[0m         )\n\u001b[1;32m    707\u001b[0m \u001b[0;34m\u001b[0m\u001b[0m\n",
            "\u001b[0;32m/usr/local/lib/python3.6/dist-packages/ipykernel/kernelbase.py\u001b[0m in \u001b[0;36m_input_request\u001b[0;34m(self, prompt, ident, parent, password)\u001b[0m\n\u001b[1;32m    733\u001b[0m             \u001b[0;32mexcept\u001b[0m \u001b[0mKeyboardInterrupt\u001b[0m\u001b[0;34m:\u001b[0m\u001b[0;34m\u001b[0m\u001b[0;34m\u001b[0m\u001b[0m\n\u001b[1;32m    734\u001b[0m                 \u001b[0;31m# re-raise KeyboardInterrupt, to truncate traceback\u001b[0m\u001b[0;34m\u001b[0m\u001b[0;34m\u001b[0m\u001b[0;34m\u001b[0m\u001b[0m\n\u001b[0;32m--> 735\u001b[0;31m                 \u001b[0;32mraise\u001b[0m \u001b[0mKeyboardInterrupt\u001b[0m\u001b[0;34m\u001b[0m\u001b[0;34m\u001b[0m\u001b[0m\n\u001b[0m\u001b[1;32m    736\u001b[0m             \u001b[0;32melse\u001b[0m\u001b[0;34m:\u001b[0m\u001b[0;34m\u001b[0m\u001b[0;34m\u001b[0m\u001b[0m\n\u001b[1;32m    737\u001b[0m                 \u001b[0;32mbreak\u001b[0m\u001b[0;34m\u001b[0m\u001b[0;34m\u001b[0m\u001b[0m\n",
            "\u001b[0;31mKeyboardInterrupt\u001b[0m: "
          ]
        }
      ]
    }
  ]
}